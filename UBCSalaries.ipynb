{
 "cells": [
  {
   "cell_type": "code",
   "execution_count": 1,
   "id": "049fcc89-134c-488e-9acf-583bf7955766",
   "metadata": {},
   "outputs": [],
   "source": [
    "# Import statements\n",
    "from hashlib import sha1\n",
    "\n",
    "import matplotlib.pyplot as plt\n",
    "import numpy as np\n",
    "import pandas as pd\n",
    "import random\n",
    "import openpyxl\n",
    "import pylab as plt\n",
    "\n",
    "import nltk\n",
    "\n",
    "plt.rcParams[\"font.size\"] = 16\n",
    "\n",
    "from sklearn.model_selection import cross_val_score, cross_validate, train_test_split\n",
    "from sklearn.tree import DecisionTreeClassifier\n",
    "from sklearn.dummy import DummyClassifier\n",
    "\n",
    "from sklearn.compose import make_column_transformer\n",
    "from sklearn.feature_extraction.text import CountVectorizer\n",
    "from sklearn.cluster import KMeans\n",
    "from sklearn.cluster import DBSCAN\n",
    "from sklearn.pipeline import make_pipeline\n",
    "from wordcloud import WordCloud\n",
    "from yellowbrick.cluster import KElbowVisualizer\n",
    "from yellowbrick.cluster import SilhouetteVisualizer\n",
    "\n",
    "from sentence_transformers import SentenceTransformer\n",
    "import torch\n",
    "\n",
    "import regex as re\n",
    "import pandas as pd"
   ]
  },
  {
   "cell_type": "markdown",
   "id": "1b5cb446-b907-42e8-8a3f-749a1ce4eee0",
   "metadata": {},
   "source": [
    "# UBC Salaries Across Gender, Department, and Job Title"
   ]
  },
  {
   "cell_type": "markdown",
   "id": "d0a0c6aa-88b0-4d85-916f-d59090686d26",
   "metadata": {},
   "source": [
    "## Introduction"
   ]
  },
  {
   "cell_type": "markdown",
   "id": "acb96e03-a9f2-4467-9ed1-1c1b7ddf6768",
   "metadata": {},
   "source": [
    "The primary goal of this project is to gain experience in data wrangling, machine learning, and Tableau. My secondary goal is to visualize the University of British Columbia (UBC) faculty salaries across gender, department, and job title. The visualization will be in the form of a Tableau dashboard. "
   ]
  },
  {
   "cell_type": "markdown",
   "id": "68f3db72-7201-4015-aa90-95e6ccdf71c2",
   "metadata": {},
   "source": [
    "As hinted at above, for this project I am prioritizing learning over accuracy of results. Therefore, rather than taking the straightforward route of requesting salary data from UBC by faculty and gender, I will only use the pdf of salary data published annually by UBC, UBC's faculty directory, and global baby name datasets. This approach includes tasks such as scraping, clustering, and transforming data. It allows for a deeper dive into data manipulation techniques, fostering a comprehensive understanding of the complexities in data wrangling."
   ]
  },
  {
   "cell_type": "markdown",
   "id": "845a3cd0-baf1-4e02-b4a4-41a798e45539",
   "metadata": {},
   "source": [
    "## Contents"
   ]
  },
  {
   "cell_type": "markdown",
   "id": "ed88137d-7874-4851-a601-fbc34eaabb3d",
   "metadata": {},
   "source": [
    "The following list is how the rest of this project will unfold:"
   ]
  },
  {
   "cell_type": "markdown",
   "id": "d08c2c07-8b91-45dc-894a-0cca5667271e",
   "metadata": {},
   "source": [
    "- Data Collection and Cleaning\n",
    "    - Salary Data\n",
    "    - Department and Job Title Data\n",
    "- Gender Prediction\n",
    "- Data Visualization\n",
    "- Conclusion"
   ]
  },
  {
   "cell_type": "markdown",
   "id": "bbea6507-2207-4cf0-8442-7cc9019ebb5e",
   "metadata": {},
   "source": [
    "## Data Collection and Cleaning"
   ]
  },
  {
   "cell_type": "markdown",
   "id": "52f2b235-9221-4f0a-9ffd-6b4260565e1b",
   "metadata": {},
   "source": [
    "### Salary Data"
   ]
  },
  {
   "cell_type": "markdown",
   "id": "52e3b662-0a92-401a-b98c-c77e4cb60aac",
   "metadata": {},
   "source": [
    "We can use the PDF salary information that UBC releases every year. To do this, go to the following link: [UBC Financial Reports](https://finance.ubc.ca/reporting-planning-analysis/financial-reports), open the most recent Financial Information Act Report, and click Control + A to copy the contents of the pdf. Paste the contents into a text file and then upload the file blow. The data used for this analysis is from the Financial Information Act Report of 2022."
   ]
  },
  {
   "cell_type": "code",
   "execution_count": 2,
   "id": "afa06f25-5c08-4f4e-9940-05661e28d237",
   "metadata": {},
   "outputs": [],
   "source": [
    "# Import UBC salary text file\n",
    "raw_data = open(\"data/UBC Staff Salary.txt\",\"r\").read()\n"
   ]
  },
  {
   "cell_type": "markdown",
   "id": "460ec067-6b43-4f4a-bd96-142b2db56484",
   "metadata": {},
   "source": [
    "Now, we will clean up this data so it can be formatted in a pandas DataFrame with four columns, `First Name`, `Last Name`, `Remuneration`, and `Expenses`. Them we export the dataframe to an excel sheet."
   ]
  },
  {
   "cell_type": "code",
   "execution_count": 3,
   "id": "ae5da8c9-7a7b-4672-a55b-9399e01a29a1",
   "metadata": {},
   "outputs": [
    {
     "data": {
      "text/html": [
       "<div>\n",
       "<style scoped>\n",
       "    .dataframe tbody tr th:only-of-type {\n",
       "        vertical-align: middle;\n",
       "    }\n",
       "\n",
       "    .dataframe tbody tr th {\n",
       "        vertical-align: top;\n",
       "    }\n",
       "\n",
       "    .dataframe thead th {\n",
       "        text-align: right;\n",
       "    }\n",
       "</style>\n",
       "<table border=\"1\" class=\"dataframe\">\n",
       "  <thead>\n",
       "    <tr style=\"text-align: right;\">\n",
       "      <th></th>\n",
       "      <th>Last Name</th>\n",
       "      <th>First Name</th>\n",
       "      <th>Remuneration</th>\n",
       "      <th>Expenses</th>\n",
       "    </tr>\n",
       "  </thead>\n",
       "  <tbody>\n",
       "    <tr>\n",
       "      <th>0</th>\n",
       "      <td>Aamodt</td>\n",
       "      <td>Tor</td>\n",
       "      <td>221891.0</td>\n",
       "      <td>1,901</td>\n",
       "    </tr>\n",
       "    <tr>\n",
       "      <th>1</th>\n",
       "      <td>Abanto Salguero</td>\n",
       "      <td>Arleni Karina</td>\n",
       "      <td>100614.0</td>\n",
       "      <td>550</td>\n",
       "    </tr>\n",
       "    <tr>\n",
       "      <th>2</th>\n",
       "      <td>Abbassi</td>\n",
       "      <td>Arash</td>\n",
       "      <td>107289.0</td>\n",
       "      <td>104</td>\n",
       "    </tr>\n",
       "    <tr>\n",
       "      <th>3</th>\n",
       "      <td>Abdalkhani</td>\n",
       "      <td>Arman</td>\n",
       "      <td>75319.0</td>\n",
       "      <td>-</td>\n",
       "    </tr>\n",
       "    <tr>\n",
       "      <th>4</th>\n",
       "      <td>Abdelaziz</td>\n",
       "      <td>Morad</td>\n",
       "      <td>117078.0</td>\n",
       "      <td>3,549</td>\n",
       "    </tr>\n",
       "  </tbody>\n",
       "</table>\n",
       "</div>"
      ],
      "text/plain": [
       "         Last Name     First Name  Remuneration Expenses\n",
       "0           Aamodt            Tor      221891.0    1,901\n",
       "1  Abanto Salguero  Arleni Karina      100614.0      550\n",
       "2          Abbassi          Arash      107289.0      104\n",
       "3       Abdalkhani          Arman       75319.0        -\n",
       "4        Abdelaziz          Morad      117078.0    3,549"
      ]
     },
     "execution_count": 3,
     "metadata": {},
     "output_type": "execute_result"
    }
   ],
   "source": [
    "\n",
    "# Remove beginning/end text\n",
    "raw_data_a = raw_data.split('Earnings greater than')[0].split('external cost recoveries.')[1]\n",
    "\n",
    "# Remove unnessessary lines\n",
    "raw_data_b = re.split('([\\.\\p{L},\\s-]+[\\s\\n]+[0-9,-]+[\\s\\n]+[0-9,-]+)', raw_data_a)\n",
    "\n",
    "raw_data_c = [i for i in raw_data_b if (',' in i) and ('SCHEDULE' not in i)]\n",
    "\n",
    "# Remove spaces and new lines\n",
    "raw_data_d = [i.replace('\\n',' ').strip() for i in raw_data_c]\n",
    "\n",
    "# Split data into Names/Remuneration/Expenses\n",
    "raw_data_e = [i.rsplit(' ',2) for i in raw_data_d]\n",
    "\n",
    "# Create Column names\n",
    "ubc_salary_data = pd.DataFrame(raw_data_e, columns = ['Name', 'Remuneration', 'Expenses'])\n",
    "\n",
    "# Split Name into First/Last Name\n",
    "ubc_salary_data[['Last Name','First Name']] = ubc_salary_data['Name'].str.split(', ', expand= True)\n",
    "\n",
    "# Select necessary columns\n",
    "ubc_salary_data = ubc_salary_data[['Last Name','First Name','Remuneration','Expenses']]\n",
    "\n",
    "# turn salary column from string to numeric\n",
    "ubc_salary_data['Remuneration'] = ubc_salary_data['Remuneration'].astype(str).str.replace(',','').astype(float)\n",
    "\n",
    "# Export DataFrame\n",
    "ubc_salary_data.to_excel('data/UBC_Salary_DF.xlsx')\n",
    "\n",
    "ubc_salary_data.head()"
   ]
  },
  {
   "cell_type": "markdown",
   "id": "39fff90c-53c4-4e7a-8440-a0ffb492b742",
   "metadata": {},
   "source": [
    "### Department and Job Title Data"
   ]
  },
  {
   "cell_type": "markdown",
   "id": "56689548-cb3f-4a16-a4b7-13796e41e479",
   "metadata": {},
   "source": [
    "#### Collection"
   ]
  },
  {
   "cell_type": "markdown",
   "id": "907553ac-d60f-44c5-96a2-57e74d183af2",
   "metadata": {},
   "source": [
    "I got department and job title information for each UBC staff member from the following [website](https://directory.ubc.ca/index.cfm). The code and entirety of the raw data will not be included here because it is forbidden to publicly distribute all of this data. To gather the data I used Python's requests package."
   ]
  },
  {
   "cell_type": "code",
   "execution_count": 4,
   "id": "c496214e-43da-4929-89a2-62a79fd65ce0",
   "metadata": {},
   "outputs": [],
   "source": [
    "# Read in combined salary and department data.\n",
    "pop_df = pd.read_excel('/Users/jadebouchard/PycharmProjects/UBCSalaries/data/UBC_Salary_Department.xlsx', index_col = 0)"
   ]
  },
  {
   "cell_type": "code",
   "execution_count": 5,
   "id": "deddae20-28d0-4bdc-8247-027184c055bf",
   "metadata": {},
   "outputs": [
    {
     "data": {
      "text/html": [
       "<div>\n",
       "<style scoped>\n",
       "    .dataframe tbody tr th:only-of-type {\n",
       "        vertical-align: middle;\n",
       "    }\n",
       "\n",
       "    .dataframe tbody tr th {\n",
       "        vertical-align: top;\n",
       "    }\n",
       "\n",
       "    .dataframe thead th {\n",
       "        text-align: right;\n",
       "    }\n",
       "</style>\n",
       "<table border=\"1\" class=\"dataframe\">\n",
       "  <thead>\n",
       "    <tr style=\"text-align: right;\">\n",
       "      <th></th>\n",
       "      <th>Unnamed: 0</th>\n",
       "      <th>Last Name</th>\n",
       "      <th>First Name</th>\n",
       "      <th>Remuneration</th>\n",
       "      <th>Expenses</th>\n",
       "      <th>Title/Department</th>\n",
       "    </tr>\n",
       "  </thead>\n",
       "  <tbody>\n",
       "    <tr>\n",
       "      <th>0</th>\n",
       "      <td>0</td>\n",
       "      <td>Aamodt</td>\n",
       "      <td>Tor</td>\n",
       "      <td>221,891</td>\n",
       "      <td>1,901</td>\n",
       "      <td>['Professor', 'Electrical and Computer Enginee...</td>\n",
       "    </tr>\n",
       "    <tr>\n",
       "      <th>1</th>\n",
       "      <td>1</td>\n",
       "      <td>Abanto Salguero</td>\n",
       "      <td>Arleni Karina</td>\n",
       "      <td>100,614</td>\n",
       "      <td>550</td>\n",
       "      <td>[]</td>\n",
       "    </tr>\n",
       "    <tr>\n",
       "      <th>2</th>\n",
       "      <td>2</td>\n",
       "      <td>Abbassi</td>\n",
       "      <td>Arash</td>\n",
       "      <td>107,289</td>\n",
       "      <td>104</td>\n",
       "      <td>['Intern, Strategy and Decision Support', 'Off...</td>\n",
       "    </tr>\n",
       "    <tr>\n",
       "      <th>3</th>\n",
       "      <td>3</td>\n",
       "      <td>Abdalkhani</td>\n",
       "      <td>Arman</td>\n",
       "      <td>75,319</td>\n",
       "      <td>-</td>\n",
       "      <td>['Clinical Instructor, Otolaryngology - Head a...</td>\n",
       "    </tr>\n",
       "    <tr>\n",
       "      <th>4</th>\n",
       "      <td>4</td>\n",
       "      <td>Abdelaziz</td>\n",
       "      <td>Morad</td>\n",
       "      <td>117,078</td>\n",
       "      <td>3,549</td>\n",
       "      <td>['Assistant Professor', 'School of Engineering...</td>\n",
       "    </tr>\n",
       "  </tbody>\n",
       "</table>\n",
       "</div>"
      ],
      "text/plain": [
       "   Unnamed: 0        Last Name     First Name Remuneration Expenses  \\\n",
       "0           0           Aamodt            Tor      221,891    1,901   \n",
       "1           1  Abanto Salguero  Arleni Karina      100,614      550   \n",
       "2           2          Abbassi          Arash      107,289      104   \n",
       "3           3       Abdalkhani          Arman       75,319        -   \n",
       "4           4        Abdelaziz          Morad      117,078    3,549   \n",
       "\n",
       "                                    Title/Department  \n",
       "0  ['Professor', 'Electrical and Computer Enginee...  \n",
       "1                                                 []  \n",
       "2  ['Intern, Strategy and Decision Support', 'Off...  \n",
       "3  ['Clinical Instructor, Otolaryngology - Head a...  \n",
       "4  ['Assistant Professor', 'School of Engineering...  "
      ]
     },
     "execution_count": 5,
     "metadata": {},
     "output_type": "execute_result"
    }
   ],
   "source": [
    "pop_df.head()"
   ]
  },
  {
   "cell_type": "markdown",
   "id": "db5c4f60-e336-4753-aae9-2a4525f2249c",
   "metadata": {},
   "source": [
    "#### Cleaning"
   ]
  },
  {
   "cell_type": "markdown",
   "id": "eb6192a0-9c47-4d39-bb8a-04e2f0d84c5e",
   "metadata": {},
   "source": [
    "##### Separating Title and Department"
   ]
  },
  {
   "cell_type": "markdown",
   "id": "63813777-8f02-42af-8c23-9c197bfebb42",
   "metadata": {},
   "source": [
    "Clearly the Title/Department Column needs some cleaning up. The first step will be to split the Title/Department column into two new columns. "
   ]
  },
  {
   "cell_type": "code",
   "execution_count": 6,
   "id": "708332d7-cc00-4db8-ac64-74249ebe5cfd",
   "metadata": {},
   "outputs": [],
   "source": [
    "def str_to_list(str):\n",
    "    '''turn string-list into an actual list'''\n",
    "    list = str.replace(\"'\",\"\").replace('[','').replace(']','').split(',')\n",
    "    return list\n",
    "\n",
    "def concatenate_departments(scraped_list):\n",
    "    '''take a list of strings, find the department-strings (2nd string onwards), and turn them into one string'''\n",
    "    department_str = ''\n",
    "    for department in scraped_list[1:]:\n",
    "        department_str = department_str + ' ' + department\n",
    "    return department_str.strip()\n",
    "\n",
    "def return_department(scraped_str):\n",
    "    '''extract department info from a string of department/job title info'''\n",
    "    scraped_list = str_to_list(scraped_str)\n",
    "    if len(scraped_list) == 1: # if only one item scraped, assume it is the department\n",
    "        return scraped_list[0]\n",
    "    elif len(scraped_list) > 1: # if more than one item scraped, return the 2nd item onwards as a concatenated string\n",
    "        return concatenate_departments(scraped_list)\n",
    "    else:\n",
    "        return ''\n",
    "\n",
    "def return_job_title(scraped_str):\n",
    "    '''extract job title info from a string of department/job title info'''\n",
    "    scraped_list = str_to_list(scraped_str)\n",
    "    if len(scraped_list) > 1: # if more than one item scraped, assume the first one is the job title\n",
    "        return scraped_list[0]\n",
    "    else:\n",
    "        return ''"
   ]
  },
  {
   "cell_type": "code",
   "execution_count": 7,
   "id": "1be9511b-6585-4bd5-98d2-19f5aa3d2d35",
   "metadata": {},
   "outputs": [
    {
     "data": {
      "text/html": [
       "<div>\n",
       "<style scoped>\n",
       "    .dataframe tbody tr th:only-of-type {\n",
       "        vertical-align: middle;\n",
       "    }\n",
       "\n",
       "    .dataframe tbody tr th {\n",
       "        vertical-align: top;\n",
       "    }\n",
       "\n",
       "    .dataframe thead th {\n",
       "        text-align: right;\n",
       "    }\n",
       "</style>\n",
       "<table border=\"1\" class=\"dataframe\">\n",
       "  <thead>\n",
       "    <tr style=\"text-align: right;\">\n",
       "      <th></th>\n",
       "      <th>Unnamed: 0</th>\n",
       "      <th>Last Name</th>\n",
       "      <th>First Name</th>\n",
       "      <th>Remuneration</th>\n",
       "      <th>Expenses</th>\n",
       "      <th>Title/Department</th>\n",
       "      <th>Department</th>\n",
       "      <th>Title</th>\n",
       "    </tr>\n",
       "  </thead>\n",
       "  <tbody>\n",
       "    <tr>\n",
       "      <th>0</th>\n",
       "      <td>0</td>\n",
       "      <td>Aamodt</td>\n",
       "      <td>Tor</td>\n",
       "      <td>221,891</td>\n",
       "      <td>1,901</td>\n",
       "      <td>['Professor', 'Electrical and Computer Enginee...</td>\n",
       "      <td>Electrical and Computer Engineering</td>\n",
       "      <td>Professor</td>\n",
       "    </tr>\n",
       "    <tr>\n",
       "      <th>1</th>\n",
       "      <td>1</td>\n",
       "      <td>Abanto Salguero</td>\n",
       "      <td>Arleni Karina</td>\n",
       "      <td>100,614</td>\n",
       "      <td>550</td>\n",
       "      <td>[]</td>\n",
       "      <td></td>\n",
       "      <td></td>\n",
       "    </tr>\n",
       "    <tr>\n",
       "      <th>2</th>\n",
       "      <td>2</td>\n",
       "      <td>Abbassi</td>\n",
       "      <td>Arash</td>\n",
       "      <td>107,289</td>\n",
       "      <td>104</td>\n",
       "      <td>['Intern, Strategy and Decision Support', 'Off...</td>\n",
       "      <td>Strategy and Decision Support  Office of the V...</td>\n",
       "      <td>Intern</td>\n",
       "    </tr>\n",
       "    <tr>\n",
       "      <th>3</th>\n",
       "      <td>3</td>\n",
       "      <td>Abdalkhani</td>\n",
       "      <td>Arman</td>\n",
       "      <td>75,319</td>\n",
       "      <td>-</td>\n",
       "      <td>['Clinical Instructor, Otolaryngology - Head a...</td>\n",
       "      <td>Otolaryngology - Head and Neck Surgery  Associ...</td>\n",
       "      <td>Clinical Instructor</td>\n",
       "    </tr>\n",
       "    <tr>\n",
       "      <th>4</th>\n",
       "      <td>4</td>\n",
       "      <td>Abdelaziz</td>\n",
       "      <td>Morad</td>\n",
       "      <td>117,078</td>\n",
       "      <td>3,549</td>\n",
       "      <td>['Assistant Professor', 'School of Engineering...</td>\n",
       "      <td>School of Engineering - UBC Okanagan</td>\n",
       "      <td>Assistant Professor</td>\n",
       "    </tr>\n",
       "  </tbody>\n",
       "</table>\n",
       "</div>"
      ],
      "text/plain": [
       "   Unnamed: 0        Last Name     First Name Remuneration Expenses  \\\n",
       "0           0           Aamodt            Tor      221,891    1,901   \n",
       "1           1  Abanto Salguero  Arleni Karina      100,614      550   \n",
       "2           2          Abbassi          Arash      107,289      104   \n",
       "3           3       Abdalkhani          Arman       75,319        -   \n",
       "4           4        Abdelaziz          Morad      117,078    3,549   \n",
       "\n",
       "                                    Title/Department  \\\n",
       "0  ['Professor', 'Electrical and Computer Enginee...   \n",
       "1                                                 []   \n",
       "2  ['Intern, Strategy and Decision Support', 'Off...   \n",
       "3  ['Clinical Instructor, Otolaryngology - Head a...   \n",
       "4  ['Assistant Professor', 'School of Engineering...   \n",
       "\n",
       "                                          Department                Title  \n",
       "0                Electrical and Computer Engineering            Professor  \n",
       "1                                                                          \n",
       "2  Strategy and Decision Support  Office of the V...               Intern  \n",
       "3  Otolaryngology - Head and Neck Surgery  Associ...  Clinical Instructor  \n",
       "4               School of Engineering - UBC Okanagan  Assistant Professor  "
      ]
     },
     "execution_count": 7,
     "metadata": {},
     "output_type": "execute_result"
    }
   ],
   "source": [
    "pop_df_dep = pop_df.copy()\n",
    "pop_df_dep['Department'] = pop_df_dep['Title/Department'].apply(return_department) # add department column\n",
    "pop_df_dep['Title'] = pop_df_dep['Title/Department'].apply(return_job_title) # add job title column\n",
    "pop_df_dep.head()"
   ]
  },
  {
   "cell_type": "code",
   "execution_count": 8,
   "id": "2f024c90-eff4-4cec-b169-a5fca0255388",
   "metadata": {},
   "outputs": [
    {
     "data": {
      "text/plain": [
       "1922"
      ]
     },
     "execution_count": 8,
     "metadata": {},
     "output_type": "execute_result"
    }
   ],
   "source": [
    "pop_df_dep['Department'].nunique()"
   ]
  },
  {
   "cell_type": "code",
   "execution_count": 9,
   "id": "1dc31708-71f8-4462-8b9f-407cb9d90cdd",
   "metadata": {},
   "outputs": [
    {
     "data": {
      "text/plain": [
       "1658"
      ]
     },
     "execution_count": 9,
     "metadata": {},
     "output_type": "execute_result"
    }
   ],
   "source": [
    "pop_df_dep['Title'].nunique()"
   ]
  },
  {
   "cell_type": "markdown",
   "id": "a4659dec-ec35-4988-b290-492dae8ea6e0",
   "metadata": {},
   "source": [
    "Now, the department and title information is separated. However, there are so many unique values that it will make data analysis difficult and ineffective. Therefore, I will group together similar department data and title data."
   ]
  },
  {
   "cell_type": "markdown",
   "id": "ffbbe5ff-227a-4a43-8b6d-e00372113ff9",
   "metadata": {},
   "source": [
    "##### Grouping Data"
   ]
  },
  {
   "cell_type": "markdown",
   "id": "939fa41b-a18a-473a-b1d9-ee40c17680c1",
   "metadata": {},
   "source": [
    "For clustering Department I used the DBScan clustering method. I chose this method over KMeans as it allows for points to not have an assigned Department. It also lets me avoid choosing the number of groups beforehand. I chose a fairly conservative eps value (0.25) as it's important that points don't get miss-classified."
   ]
  },
  {
   "cell_type": "markdown",
   "id": "f581a618-fe85-43fd-85a2-e142bebfc692",
   "metadata": {},
   "source": [
    "The first step is to do some preprocessing. I will remove some words and symbols from the department column that I don't want the algorithm using to determine similarity."
   ]
  },
  {
   "cell_type": "code",
   "execution_count": 10,
   "id": "a711aa8b-afc0-4f47-8e25-47900b0dc5ec",
   "metadata": {},
   "outputs": [],
   "source": [
    "# Removing some words and symbols from the department text as it confuses the cluster algorithm\n",
    "pop_df_dep[\"Department\"] = pop_df_dep[\"Department\"].replace({\"Faculty of \":\"\",\n",
    "                                                             \"Faculty\":\"\",\n",
    "                                                             \"IKBFoS\":\"\", \"IKBFASS\":\"\", \n",
    "                                                             \"–\":\"\", \"-\":\"\", \"Department\":\"\", \"School\":\"\",\n",
    "                                                             \"Office\":\"\",\"Institute\":\"\"}, regex=True)"
   ]
  },
  {
   "cell_type": "markdown",
   "id": "ce571030-2c87-43de-abe0-5b6bb2a8877a",
   "metadata": {},
   "source": [
    "I'm also choosing to remove Location info about university, although it would be interesting to look at salary disparity across location another time"
   ]
  },
  {
   "cell_type": "code",
   "execution_count": 11,
   "id": "31782d0f-3997-4e6a-a94a-9453b6b3c98d",
   "metadata": {},
   "outputs": [],
   "source": [
    "pop_df_dep[\"Department\"] = pop_df_dep[\"Department\"].replace({\"UBC Okanagan\":\"\"}, regex=True)"
   ]
  },
  {
   "cell_type": "markdown",
   "id": "8c8a93ea-2e02-4328-bac1-242357d179b0",
   "metadata": {},
   "source": [
    "The next step is to train the clustering model."
   ]
  },
  {
   "cell_type": "code",
   "execution_count": 12,
   "id": "a25827aa-bfb1-4565-9aff-d21ef14b2fc2",
   "metadata": {},
   "outputs": [],
   "source": [
    "embedder = SentenceTransformer(\"paraphrase-distilroberta-base-v1\")"
   ]
  },
  {
   "cell_type": "code",
   "execution_count": 13,
   "id": "b352e357-55d5-42d8-8f04-6e280914b1b9",
   "metadata": {},
   "outputs": [],
   "source": [
    "emb_department = embedder.encode(pop_df_dep['Department'])"
   ]
  },
  {
   "cell_type": "code",
   "execution_count": 14,
   "id": "2f9f3313-d639-482f-a387-75a4147891de",
   "metadata": {},
   "outputs": [],
   "source": [
    "emb_department_df = pd.DataFrame(emb_department, index=pop_df_dep.index)"
   ]
  },
  {
   "cell_type": "code",
   "execution_count": 15,
   "id": "eb663ec2-7595-4ac6-814f-6fce333e6863",
   "metadata": {},
   "outputs": [
    {
     "name": "stderr",
     "output_type": "stream",
     "text": [
      "/Users/jadebouchard/miniconda3/envs/cpsc330/lib/python3.10/site-packages/sklearn/utils/extmath.py:193: RuntimeWarning: invalid value encountered in matmul\n",
      "  ret = a @ b\n"
     ]
    },
    {
     "data": {
      "text/html": [
       "<style>#sk-container-id-1 {color: black;}#sk-container-id-1 pre{padding: 0;}#sk-container-id-1 div.sk-toggleable {background-color: white;}#sk-container-id-1 label.sk-toggleable__label {cursor: pointer;display: block;width: 100%;margin-bottom: 0;padding: 0.3em;box-sizing: border-box;text-align: center;}#sk-container-id-1 label.sk-toggleable__label-arrow:before {content: \"▸\";float: left;margin-right: 0.25em;color: #696969;}#sk-container-id-1 label.sk-toggleable__label-arrow:hover:before {color: black;}#sk-container-id-1 div.sk-estimator:hover label.sk-toggleable__label-arrow:before {color: black;}#sk-container-id-1 div.sk-toggleable__content {max-height: 0;max-width: 0;overflow: hidden;text-align: left;background-color: #f0f8ff;}#sk-container-id-1 div.sk-toggleable__content pre {margin: 0.2em;color: black;border-radius: 0.25em;background-color: #f0f8ff;}#sk-container-id-1 input.sk-toggleable__control:checked~div.sk-toggleable__content {max-height: 200px;max-width: 100%;overflow: auto;}#sk-container-id-1 input.sk-toggleable__control:checked~label.sk-toggleable__label-arrow:before {content: \"▾\";}#sk-container-id-1 div.sk-estimator input.sk-toggleable__control:checked~label.sk-toggleable__label {background-color: #d4ebff;}#sk-container-id-1 div.sk-label input.sk-toggleable__control:checked~label.sk-toggleable__label {background-color: #d4ebff;}#sk-container-id-1 input.sk-hidden--visually {border: 0;clip: rect(1px 1px 1px 1px);clip: rect(1px, 1px, 1px, 1px);height: 1px;margin: -1px;overflow: hidden;padding: 0;position: absolute;width: 1px;}#sk-container-id-1 div.sk-estimator {font-family: monospace;background-color: #f0f8ff;border: 1px dotted black;border-radius: 0.25em;box-sizing: border-box;margin-bottom: 0.5em;}#sk-container-id-1 div.sk-estimator:hover {background-color: #d4ebff;}#sk-container-id-1 div.sk-parallel-item::after {content: \"\";width: 100%;border-bottom: 1px solid gray;flex-grow: 1;}#sk-container-id-1 div.sk-label:hover label.sk-toggleable__label {background-color: #d4ebff;}#sk-container-id-1 div.sk-serial::before {content: \"\";position: absolute;border-left: 1px solid gray;box-sizing: border-box;top: 0;bottom: 0;left: 50%;z-index: 0;}#sk-container-id-1 div.sk-serial {display: flex;flex-direction: column;align-items: center;background-color: white;padding-right: 0.2em;padding-left: 0.2em;position: relative;}#sk-container-id-1 div.sk-item {position: relative;z-index: 1;}#sk-container-id-1 div.sk-parallel {display: flex;align-items: stretch;justify-content: center;background-color: white;position: relative;}#sk-container-id-1 div.sk-item::before, #sk-container-id-1 div.sk-parallel-item::before {content: \"\";position: absolute;border-left: 1px solid gray;box-sizing: border-box;top: 0;bottom: 0;left: 50%;z-index: -1;}#sk-container-id-1 div.sk-parallel-item {display: flex;flex-direction: column;z-index: 1;position: relative;background-color: white;}#sk-container-id-1 div.sk-parallel-item:first-child::after {align-self: flex-end;width: 50%;}#sk-container-id-1 div.sk-parallel-item:last-child::after {align-self: flex-start;width: 50%;}#sk-container-id-1 div.sk-parallel-item:only-child::after {width: 0;}#sk-container-id-1 div.sk-dashed-wrapped {border: 1px dashed gray;margin: 0 0.4em 0.5em 0.4em;box-sizing: border-box;padding-bottom: 0.4em;background-color: white;}#sk-container-id-1 div.sk-label label {font-family: monospace;font-weight: bold;display: inline-block;line-height: 1.2em;}#sk-container-id-1 div.sk-label-container {text-align: center;}#sk-container-id-1 div.sk-container {/* jupyter's `normalize.less` sets `[hidden] { display: none; }` but bootstrap.min.css set `[hidden] { display: none !important; }` so we also need the `!important` here to be able to override the default hidden behavior on the sphinx rendered scikit-learn.org. See: https://github.com/scikit-learn/scikit-learn/issues/21755 */display: inline-block !important;position: relative;}#sk-container-id-1 div.sk-text-repr-fallback {display: none;}</style><div id=\"sk-container-id-1\" class=\"sk-top-container\"><div class=\"sk-text-repr-fallback\"><pre>DBSCAN(eps=0.23, metric=&#x27;cosine&#x27;, min_samples=20)</pre><b>In a Jupyter environment, please rerun this cell to show the HTML representation or trust the notebook. <br />On GitHub, the HTML representation is unable to render, please try loading this page with nbviewer.org.</b></div><div class=\"sk-container\" hidden><div class=\"sk-item\"><div class=\"sk-estimator sk-toggleable\"><input class=\"sk-toggleable__control sk-hidden--visually\" id=\"sk-estimator-id-1\" type=\"checkbox\" checked><label for=\"sk-estimator-id-1\" class=\"sk-toggleable__label sk-toggleable__label-arrow\">DBSCAN</label><div class=\"sk-toggleable__content\"><pre>DBSCAN(eps=0.23, metric=&#x27;cosine&#x27;, min_samples=20)</pre></div></div></div></div></div>"
      ],
      "text/plain": [
       "DBSCAN(eps=0.23, metric='cosine', min_samples=20)"
      ]
     },
     "execution_count": 15,
     "metadata": {},
     "output_type": "execute_result"
    }
   ],
   "source": [
    "dbscan = DBSCAN(eps=0.23, min_samples = 20,metric='cosine')\n",
    "dbscan.fit(emb_department_df)"
   ]
  },
  {
   "cell_type": "markdown",
   "id": "725b0ffa-dd01-44be-b637-6145d47830a9",
   "metadata": {},
   "source": [
    "Now that we have our model fitted, we can analyze its performance. To do this, I create and examine a silhouette plot. "
   ]
  },
  {
   "cell_type": "code",
   "execution_count": 16,
   "id": "2f912d45-5a3f-4858-91d5-e8eaebb7d576",
   "metadata": {},
   "outputs": [],
   "source": [
    "n_clusters = len(set(dbscan.labels_))\n",
    "dbscan.n_clusters = n_clusters\n",
    "dbscan.predict = lambda x: dbscan.labels_"
   ]
  },
  {
   "cell_type": "code",
   "execution_count": 17,
   "id": "2abd2188-d511-4df2-b257-83ac7a1fc7f7",
   "metadata": {},
   "outputs": [
    {
     "data": {
      "image/png": "[encoded data removed]",
      "text/plain": [
       "<Figure size 800x550 with 1 Axes>"
      ]
     },
     "metadata": {},
     "output_type": "display_data"
    },
    {
     "data": {
      "text/plain": [
       "<Axes: title={'center': 'Silhouette Plot of DBSCAN Clustering for 7356 Samples in 63 Centers'}, xlabel='silhouette coefficient values', ylabel='cluster label'>"
      ]
     },
     "execution_count": 17,
     "metadata": {},
     "output_type": "execute_result"
    }
   ],
   "source": [
    "visualizer = SilhouetteVisualizer(dbscan, colors=\"yellowbrick\")\n",
    "visualizer.fit(emb_department)  \n",
    "visualizer.show()"
   ]
  },
  {
   "cell_type": "markdown",
   "id": "993f2255-728b-454d-b766-6f51e0008746",
   "metadata": {},
   "source": [
    "From the above silhouette plot, I can see that that the chosen eps and min_sample values do a pretty good job of seperating the data into distinct clusters. \n",
    "\n",
    "One item of note is that the 1 cluster (data points with a null Department value) makes up about 20% of the data. This informs us that many observations do not have an associated department in the data, therefore conclusions based of the data may not accurately represent the entire population of UBC faculty.\n",
    "\n",
    "Also, cluster 6 (the \"medicine\" cluster) seems to have many negative values, indicating some departments in that category may be similar to other clusters than just 6. After further investigation, cluster 6 seems to contain observations that should be grouped together. Therefore, I will carry on using the clusters created."
   ]
  },
  {
   "cell_type": "code",
   "execution_count": 18,
   "id": "d39578d3-8343-45e9-82c7-5b6a7aec3218",
   "metadata": {},
   "outputs": [
    {
     "data": {
      "text/plain": [
       "63"
      ]
     },
     "execution_count": 18,
     "metadata": {},
     "output_type": "execute_result"
    }
   ],
   "source": [
    "len(set(dbscan.labels_))"
   ]
  },
  {
   "cell_type": "code",
   "execution_count": 19,
   "id": "34e5f093-deae-4947-b135-62b0baca9b00",
   "metadata": {},
   "outputs": [],
   "source": [
    "pop_df_dep[\"reduced_department\"] = dbscan.labels_"
   ]
  },
  {
   "cell_type": "markdown",
   "id": "302645a1-5dc7-4e82-9596-f835f8d17b53",
   "metadata": {},
   "source": [
    "The code above has assigned 62 unique labels to the observations. Each label is currently represented by a number which is not very interpretable. Below I will find the most common word(s) for each label and use that string to represent the label."
   ]
  },
  {
   "cell_type": "code",
   "execution_count": 20,
   "id": "f614a8d4-2e80-4dc1-a534-ddf44021ce06",
   "metadata": {},
   "outputs": [
    {
     "data": {
      "text/html": [
       "<div>\n",
       "<style scoped>\n",
       "    .dataframe tbody tr th:only-of-type {\n",
       "        vertical-align: middle;\n",
       "    }\n",
       "\n",
       "    .dataframe tbody tr th {\n",
       "        vertical-align: top;\n",
       "    }\n",
       "\n",
       "    .dataframe thead th {\n",
       "        text-align: right;\n",
       "    }\n",
       "</style>\n",
       "<table border=\"1\" class=\"dataframe\">\n",
       "  <thead>\n",
       "    <tr style=\"text-align: right;\">\n",
       "      <th></th>\n",
       "      <th>Unnamed: 0</th>\n",
       "      <th>Last Name</th>\n",
       "      <th>First Name</th>\n",
       "      <th>Remuneration</th>\n",
       "      <th>Expenses</th>\n",
       "      <th>Title/Department</th>\n",
       "      <th>Department</th>\n",
       "      <th>Title</th>\n",
       "      <th>reduced_department</th>\n",
       "    </tr>\n",
       "  </thead>\n",
       "  <tbody>\n",
       "    <tr>\n",
       "      <th>0</th>\n",
       "      <td>0</td>\n",
       "      <td>Aamodt</td>\n",
       "      <td>Tor</td>\n",
       "      <td>221,891</td>\n",
       "      <td>1,901</td>\n",
       "      <td>['Professor', 'Electrical and Computer Enginee...</td>\n",
       "      <td>Electrical and Computer Engineering</td>\n",
       "      <td>Professor</td>\n",
       "      <td>Computer Engineering</td>\n",
       "    </tr>\n",
       "    <tr>\n",
       "      <th>1</th>\n",
       "      <td>1</td>\n",
       "      <td>Abanto Salguero</td>\n",
       "      <td>Arleni Karina</td>\n",
       "      <td>100,614</td>\n",
       "      <td>550</td>\n",
       "      <td>[]</td>\n",
       "      <td></td>\n",
       "      <td></td>\n",
       "      <td>NaN</td>\n",
       "    </tr>\n",
       "    <tr>\n",
       "      <th>2</th>\n",
       "      <td>2</td>\n",
       "      <td>Abbassi</td>\n",
       "      <td>Arash</td>\n",
       "      <td>107,289</td>\n",
       "      <td>104</td>\n",
       "      <td>['Intern, Strategy and Decision Support', 'Off...</td>\n",
       "      <td>Strategy and Decision Support   of the VicePre...</td>\n",
       "      <td>Intern</td>\n",
       "      <td>NaN</td>\n",
       "    </tr>\n",
       "    <tr>\n",
       "      <th>3</th>\n",
       "      <td>3</td>\n",
       "      <td>Abdalkhani</td>\n",
       "      <td>Arman</td>\n",
       "      <td>75,319</td>\n",
       "      <td>-</td>\n",
       "      <td>['Clinical Instructor, Otolaryngology - Head a...</td>\n",
       "      <td>Otolaryngology  Head and Neck Surgery  Associa...</td>\n",
       "      <td>Clinical Instructor</td>\n",
       "      <td>NaN</td>\n",
       "    </tr>\n",
       "    <tr>\n",
       "      <th>4</th>\n",
       "      <td>4</td>\n",
       "      <td>Abdelaziz</td>\n",
       "      <td>Morad</td>\n",
       "      <td>117,078</td>\n",
       "      <td>3,549</td>\n",
       "      <td>['Assistant Professor', 'School of Engineering...</td>\n",
       "      <td>of Engineering</td>\n",
       "      <td>Assistant Professor</td>\n",
       "      <td>Engineering</td>\n",
       "    </tr>\n",
       "    <tr>\n",
       "      <th>5</th>\n",
       "      <td>5</td>\n",
       "      <td>Abdelpakey</td>\n",
       "      <td>Mohamed</td>\n",
       "      <td>79,281</td>\n",
       "      <td>-</td>\n",
       "      <td>[]</td>\n",
       "      <td></td>\n",
       "      <td></td>\n",
       "      <td>NaN</td>\n",
       "    </tr>\n",
       "    <tr>\n",
       "      <th>6</th>\n",
       "      <td>6</td>\n",
       "      <td>Abdi</td>\n",
       "      <td>Ali</td>\n",
       "      <td>241,966</td>\n",
       "      <td>729</td>\n",
       "      <td>['Professor', 'Educational Studies (EDST)']</td>\n",
       "      <td>Educational Studies (EDST)</td>\n",
       "      <td>Professor</td>\n",
       "      <td>Educational Studies</td>\n",
       "    </tr>\n",
       "  </tbody>\n",
       "</table>\n",
       "</div>"
      ],
      "text/plain": [
       "   Unnamed: 0        Last Name     First Name Remuneration Expenses  \\\n",
       "0           0           Aamodt            Tor      221,891    1,901   \n",
       "1           1  Abanto Salguero  Arleni Karina      100,614      550   \n",
       "2           2          Abbassi          Arash      107,289      104   \n",
       "3           3       Abdalkhani          Arman       75,319        -   \n",
       "4           4        Abdelaziz          Morad      117,078    3,549   \n",
       "5           5       Abdelpakey        Mohamed       79,281        -   \n",
       "6           6             Abdi            Ali      241,966      729   \n",
       "\n",
       "                                    Title/Department  \\\n",
       "0  ['Professor', 'Electrical and Computer Enginee...   \n",
       "1                                                 []   \n",
       "2  ['Intern, Strategy and Decision Support', 'Off...   \n",
       "3  ['Clinical Instructor, Otolaryngology - Head a...   \n",
       "4  ['Assistant Professor', 'School of Engineering...   \n",
       "5                                                 []   \n",
       "6        ['Professor', 'Educational Studies (EDST)']   \n",
       "\n",
       "                                          Department                Title  \\\n",
       "0                Electrical and Computer Engineering            Professor   \n",
       "1                                                                           \n",
       "2  Strategy and Decision Support   of the VicePre...               Intern   \n",
       "3  Otolaryngology  Head and Neck Surgery  Associa...  Clinical Instructor   \n",
       "4                                   of Engineering    Assistant Professor   \n",
       "5                                                                           \n",
       "6                         Educational Studies (EDST)            Professor   \n",
       "\n",
       "     reduced_department  \n",
       "0  Computer Engineering  \n",
       "1                   NaN  \n",
       "2                   NaN  \n",
       "3                   NaN  \n",
       "4           Engineering  \n",
       "5                   NaN  \n",
       "6   Educational Studies  "
      ]
     },
     "execution_count": 20,
     "metadata": {},
     "output_type": "execute_result"
    }
   ],
   "source": [
    "pop_df_dep[\"reduced_department\"] = pop_df_dep[\"reduced_department\"].astype(str) # turn column to type string\n",
    "for cluster_num in range(-1,len(set(dbscan.labels_))-1): # for each label:\n",
    "    cluster = pop_df_dep[pop_df_dep[\"reduced_department\"] == str(cluster_num)] # filter data for label\n",
    "    name_string = ' '.join(cluster[\"Department\"].tolist()) # create long string of all words in label\n",
    "    if cluster_num == -1:\n",
    "            pop_df_dep.loc[pop_df_dep[\"reduced_department\"] == str(cluster_num), \"reduced_department\"] = np.nan\n",
    "    elif name_string.strip():\n",
    "        wordcloud = WordCloud().generate(name_string) # find the commonality of words\n",
    "        str_label = list((wordcloud.words_.keys()))[0] # select the most common word(s)\n",
    "        # rename label with common word(s)\n",
    "        pop_df_dep.loc[pop_df_dep[\"reduced_department\"] == str(cluster_num), \"reduced_department\"] = str_label \n",
    "\n",
    "# give unlabeled data-points the label np.nan\n",
    "pop_df_dep[\"reduced_department\"] = pop_df_dep[\"reduced_department\"].replace({\"1\":np.nan}, regex=True) \n",
    "pop_df_dep.head(7)"
   ]
  },
  {
   "cell_type": "markdown",
   "id": "05dcf0be-51de-4fb3-bc8f-b1199e156bd1",
   "metadata": {},
   "source": [
    "Now the labels of the data points are more interpretable. Below we can see all of the unique labels. This list of unique labels was useful when deciding which words to remove from the data, such as \"Faculty of\"."
   ]
  },
  {
   "cell_type": "code",
   "execution_count": 21,
   "id": "bec21b95-6b2a-4ed3-b89a-5568503d6521",
   "metadata": {},
   "outputs": [
    {
     "data": {
      "text/plain": [
       "array(['Computer Engineering', nan, 'Engineering', 'Educational Studies',\n",
       "       'Materials Engineering', 'Asian Studies', 'Medicine', 'Sociology',\n",
       "       'Literacy Education', 'Computer Science', 'Statistics', 'Library',\n",
       "       'Botany', 'Enrolment Services', 'Civil Engineering',\n",
       "       'Cultural Studies', 'Pharmaceutical Sciences', 'English Language',\n",
       "       'Pedagogy EDCP', 'Economics Vancouver', 'Building Operations',\n",
       "       'Nursing', 'Stewart Blusson', 'Alumni Engagement', 'Law Allard',\n",
       "       'Business University', 'Service Centre', 'Information Technology',\n",
       "       'Dentistry', 'Forestry Forest', 'Teaching Learning',\n",
       "       'Psychology Psychology', 'Services Facilities', 'Human Early',\n",
       "       'Chemistry', 'Political Science', 'Obstetrics Gynaecology',\n",
       "       'International Student', 'UBC Vantage', 'Earth Ocean', 'Forestry',\n",
       "       'Zoology Zoology', 'French Hispanic', 'Astronomy Physics',\n",
       "       'Family Practice', 'VicePresident Research', 'Film Theatre',\n",
       "       'Mathematics', 'Vancouver Coastal', 'Geography Geography',\n",
       "       'Food Systems', 'Human Resources', 'Pharmacology Therapeutics',\n",
       "       'Recreation Athletics', 'Architecture', 'Kinesiology',\n",
       "       'Special Education', 'Biology', 'History', 'Economics Philosophy',\n",
       "       'Community Planning'], dtype=object)"
      ]
     },
     "execution_count": 21,
     "metadata": {},
     "output_type": "execute_result"
    }
   ],
   "source": [
    "pop_df_dep[\"reduced_department\"].unique()"
   ]
  },
  {
   "cell_type": "markdown",
   "id": "4f769242-6f73-4796-826d-8eb9b8edb37b",
   "metadata": {},
   "source": [
    "We can see that some of these labels need adjustments. Below, I manually alter the labels for interpretability and to further combine some groups."
   ]
  },
  {
   "cell_type": "code",
   "execution_count": 22,
   "id": "764a8ef9-0e80-4818-b35f-325088164405",
   "metadata": {},
   "outputs": [],
   "source": [
    "pop_df_dep[\"reduced_department\"] = pop_df_dep[\"reduced_department\"].replace({\"Computer Engineering\":\"Engineering\", \n",
    "                                                                   \"Educational Studies\":\"Education\",\n",
    "                                                                   \"Literacy Education\":\"Literacy\",\n",
    "                                                                   \"Enrolment Services\":\"Enrolment\",\n",
    "                                                                   \"Materials Engineering\":\"Engineering\", \n",
    "                                                                   \"Business University\":\"Sauder\",\n",
    "                                                                   \"Sociology Department\":\"Sociology\",\n",
    "                                                                   \"Economics Vancouver\":\"Economics\",\n",
    "                                                                   \"Family Practice\":\"Medicine\",\n",
    "                                                                   \"Vancouver School\":\"Economics\",\n",
    "                                                                   \"UBC Vantage\":\"Vantage College\",\n",
    "                                                                   \"Civil Engineering\":\"Engineering\",\n",
    "                                                                   \"Stewart Blusson\":\"Physics/Astronomy\",\n",
    "                                                                   \"Law Allard\":\"Law\",\n",
    "                                                                   \"Services Facilities\":\"Facility Services\",\n",
    "                                                                   \"Sauder School\":\"Sauder\",\n",
    "                                                                   \"English Language\":\"English\",\n",
    "                                                                   \"Service Centre\":\"Integrated Service Centre\",\n",
    "                                                                   \"Forestry Forest\":\"Forestry\",\n",
    "                                                                   \"Teaching Learning\":\"Teaching\",\n",
    "                                                                   \"Health Social\":\"Health & Social Development\",\n",
    "                                                                   \"Psychology Psychology\":\"Psychology\",\n",
    "                                                                   \"Human Early\":\"Early Learning\",\n",
    "                                                                   \"Obstetrics Gynaecology\":\"Obstetrics & Gynaecology\",\n",
    "                                                                   \"International Student\":\"International Student Initiative/Development\",\n",
    "                                                                   \"Earth Ocean\":\"Earth/Ocean/Atmospheric Sciences\",\n",
    "                                                                   \"Media School\": \"Journalism\",\n",
    "                                                                   \"Zoology Zoology\":\"Zoology\",\n",
    "                                                                   \"French Hispanic\":\"Language Studies\",\n",
    "                                                                   \"Astronomy Physics\":\"Physics and Astronomy\",\n",
    "                                                                   \"VicePresident Research\": \"Research & Innovation\",\n",
    "                                                                   \"Film Theatre\":\"Theatre and Film\",\n",
    "                                                                   \"Vancouver Coastal\":\"Surgery Medicine\",\n",
    "                                                                   \"Geography Geography\":\"Geography\",\n",
    "                                                                   \"Food Systems\":\"Land and Food Systems\",\n",
    "                                                                   \"Surgery Medicine\":\"Surgery\",\n",
    "                                                                   \"Special Education\":\"Counselling and Special Education\",\n",
    "                                                                   \"Economics Philosophy\": \"Philosophy\",\n",
    "                                                                   \"Digital Solutions\":\"Digital Solutions Medicine\",\n",
    "                                                                   \"Pharmacology Therapeutics\":\"Pharmacology\",\n",
    "                                                                   \"Pharmaceutical Sciences\":\"Pharmacology\",          \n",
    "                                                                  }\n",
    "                                                                  , regex=True)"
   ]
  },
  {
   "cell_type": "code",
   "execution_count": 23,
   "id": "b8087169-4a41-4836-98b9-021557ce3abc",
   "metadata": {},
   "outputs": [
    {
     "data": {
      "text/plain": [
       "array(['Engineering', nan, 'Education', 'Asian Studies', 'Medicine',\n",
       "       'Sociology', 'Literacy', 'Computer Science', 'Statistics',\n",
       "       'Library', 'Botany', 'Enrolment', 'Cultural Studies',\n",
       "       'Pharmacology', 'English', 'Pedagogy EDCP', 'Economics',\n",
       "       'Building Operations', 'Nursing', 'Physics/Astronomy',\n",
       "       'Alumni Engagement', 'Law', 'Sauder', 'Integrated Service Centre',\n",
       "       'Information Technology', 'Dentistry', 'Forestry', 'Teaching',\n",
       "       'Psychology', 'Facility Services', 'Early Learning', 'Chemistry',\n",
       "       'Political Science', 'Obstetrics & Gynaecology',\n",
       "       'International Student Initiative/Development', 'Vantage College',\n",
       "       'Earth/Ocean/Atmospheric Sciences', 'Zoology', 'Language Studies',\n",
       "       'Physics and Astronomy', 'Research & Innovation',\n",
       "       'Theatre and Film', 'Mathematics', 'Surgery Medicine', 'Geography',\n",
       "       'Land and Food Systems', 'Human Resources', 'Recreation Athletics',\n",
       "       'Architecture', 'Kinesiology', 'Counselling and Special Education',\n",
       "       'Biology', 'History', 'Philosophy', 'Community Planning'],\n",
       "      dtype=object)"
      ]
     },
     "execution_count": 23,
     "metadata": {},
     "output_type": "execute_result"
    }
   ],
   "source": [
    "pop_df_dep[\"reduced_department\"].unique()"
   ]
  },
  {
   "cell_type": "code",
   "execution_count": 24,
   "id": "0606aa3b-385b-45a7-9e4d-ec9c95814e4b",
   "metadata": {},
   "outputs": [
    {
     "data": {
      "text/html": [
       "<div>\n",
       "<style scoped>\n",
       "    .dataframe tbody tr th:only-of-type {\n",
       "        vertical-align: middle;\n",
       "    }\n",
       "\n",
       "    .dataframe tbody tr th {\n",
       "        vertical-align: top;\n",
       "    }\n",
       "\n",
       "    .dataframe thead th {\n",
       "        text-align: right;\n",
       "    }\n",
       "</style>\n",
       "<table border=\"1\" class=\"dataframe\">\n",
       "  <thead>\n",
       "    <tr style=\"text-align: right;\">\n",
       "      <th></th>\n",
       "      <th>Unnamed: 0</th>\n",
       "      <th>Last Name</th>\n",
       "      <th>First Name</th>\n",
       "      <th>Remuneration</th>\n",
       "      <th>Expenses</th>\n",
       "      <th>Title/Department</th>\n",
       "      <th>Department</th>\n",
       "      <th>Title</th>\n",
       "      <th>reduced_department</th>\n",
       "    </tr>\n",
       "  </thead>\n",
       "  <tbody>\n",
       "    <tr>\n",
       "      <th>0</th>\n",
       "      <td>0</td>\n",
       "      <td>Aamodt</td>\n",
       "      <td>Tor</td>\n",
       "      <td>221,891</td>\n",
       "      <td>1,901</td>\n",
       "      <td>['Professor', 'Electrical and Computer Enginee...</td>\n",
       "      <td>Electrical and Computer Engineering</td>\n",
       "      <td>Professor</td>\n",
       "      <td>Engineering</td>\n",
       "    </tr>\n",
       "    <tr>\n",
       "      <th>1</th>\n",
       "      <td>1</td>\n",
       "      <td>Abanto Salguero</td>\n",
       "      <td>Arleni Karina</td>\n",
       "      <td>100,614</td>\n",
       "      <td>550</td>\n",
       "      <td>[]</td>\n",
       "      <td></td>\n",
       "      <td></td>\n",
       "      <td>NaN</td>\n",
       "    </tr>\n",
       "    <tr>\n",
       "      <th>2</th>\n",
       "      <td>2</td>\n",
       "      <td>Abbassi</td>\n",
       "      <td>Arash</td>\n",
       "      <td>107,289</td>\n",
       "      <td>104</td>\n",
       "      <td>['Intern, Strategy and Decision Support', 'Off...</td>\n",
       "      <td>Strategy and Decision Support   of the VicePre...</td>\n",
       "      <td>Intern</td>\n",
       "      <td>NaN</td>\n",
       "    </tr>\n",
       "    <tr>\n",
       "      <th>3</th>\n",
       "      <td>3</td>\n",
       "      <td>Abdalkhani</td>\n",
       "      <td>Arman</td>\n",
       "      <td>75,319</td>\n",
       "      <td>-</td>\n",
       "      <td>['Clinical Instructor, Otolaryngology - Head a...</td>\n",
       "      <td>Otolaryngology  Head and Neck Surgery  Associa...</td>\n",
       "      <td>Clinical Instructor</td>\n",
       "      <td>NaN</td>\n",
       "    </tr>\n",
       "    <tr>\n",
       "      <th>4</th>\n",
       "      <td>4</td>\n",
       "      <td>Abdelaziz</td>\n",
       "      <td>Morad</td>\n",
       "      <td>117,078</td>\n",
       "      <td>3,549</td>\n",
       "      <td>['Assistant Professor', 'School of Engineering...</td>\n",
       "      <td>of Engineering</td>\n",
       "      <td>Assistant Professor</td>\n",
       "      <td>Engineering</td>\n",
       "    </tr>\n",
       "  </tbody>\n",
       "</table>\n",
       "</div>"
      ],
      "text/plain": [
       "   Unnamed: 0        Last Name     First Name Remuneration Expenses  \\\n",
       "0           0           Aamodt            Tor      221,891    1,901   \n",
       "1           1  Abanto Salguero  Arleni Karina      100,614      550   \n",
       "2           2          Abbassi          Arash      107,289      104   \n",
       "3           3       Abdalkhani          Arman       75,319        -   \n",
       "4           4        Abdelaziz          Morad      117,078    3,549   \n",
       "\n",
       "                                    Title/Department  \\\n",
       "0  ['Professor', 'Electrical and Computer Enginee...   \n",
       "1                                                 []   \n",
       "2  ['Intern, Strategy and Decision Support', 'Off...   \n",
       "3  ['Clinical Instructor, Otolaryngology - Head a...   \n",
       "4  ['Assistant Professor', 'School of Engineering...   \n",
       "\n",
       "                                          Department                Title  \\\n",
       "0                Electrical and Computer Engineering            Professor   \n",
       "1                                                                           \n",
       "2  Strategy and Decision Support   of the VicePre...               Intern   \n",
       "3  Otolaryngology  Head and Neck Surgery  Associa...  Clinical Instructor   \n",
       "4                                   of Engineering    Assistant Professor   \n",
       "\n",
       "  reduced_department  \n",
       "0        Engineering  \n",
       "1                NaN  \n",
       "2                NaN  \n",
       "3                NaN  \n",
       "4        Engineering  "
      ]
     },
     "execution_count": 24,
     "metadata": {},
     "output_type": "execute_result"
    }
   ],
   "source": [
    "pop_df_dep.head()"
   ]
  },
  {
   "cell_type": "markdown",
   "id": "1e8be7af-739e-432d-85a2-202366c695d1",
   "metadata": {},
   "source": [
    "There are now cleaned, grouped departments for our data."
   ]
  },
  {
   "cell_type": "markdown",
   "id": "0a934271-aee1-4586-9bef-733a7ea96874",
   "metadata": {},
   "source": [
    "Now for clustering the job titles. Instead of using DBscan, I created my own grouping method as DBscan wasn't quite capturing the groups for title that I had in mind."
   ]
  },
  {
   "cell_type": "code",
   "execution_count": 25,
   "id": "595f7a73-caf3-4453-9826-972f818302c1",
   "metadata": {},
   "outputs": [
    {
     "data": {
      "text/html": [
       "<div>\n",
       "<style scoped>\n",
       "    .dataframe tbody tr th:only-of-type {\n",
       "        vertical-align: middle;\n",
       "    }\n",
       "\n",
       "    .dataframe tbody tr th {\n",
       "        vertical-align: top;\n",
       "    }\n",
       "\n",
       "    .dataframe thead th {\n",
       "        text-align: right;\n",
       "    }\n",
       "</style>\n",
       "<table border=\"1\" class=\"dataframe\">\n",
       "  <thead>\n",
       "    <tr style=\"text-align: right;\">\n",
       "      <th></th>\n",
       "      <th>Unnamed: 0</th>\n",
       "      <th>Last Name</th>\n",
       "      <th>First Name</th>\n",
       "      <th>Remuneration</th>\n",
       "      <th>Expenses</th>\n",
       "      <th>Title/Department</th>\n",
       "      <th>Department</th>\n",
       "      <th>Title</th>\n",
       "      <th>reduced_department</th>\n",
       "      <th>Reduced Title</th>\n",
       "    </tr>\n",
       "  </thead>\n",
       "  <tbody>\n",
       "    <tr>\n",
       "      <th>0</th>\n",
       "      <td>0</td>\n",
       "      <td>Aamodt</td>\n",
       "      <td>Tor</td>\n",
       "      <td>221,891</td>\n",
       "      <td>1,901</td>\n",
       "      <td>['Professor', 'Electrical and Computer Enginee...</td>\n",
       "      <td>Electrical and Computer Engineering</td>\n",
       "      <td>Professor</td>\n",
       "      <td>Engineering</td>\n",
       "      <td>Professor</td>\n",
       "    </tr>\n",
       "    <tr>\n",
       "      <th>1</th>\n",
       "      <td>1</td>\n",
       "      <td>Abanto Salguero</td>\n",
       "      <td>Arleni Karina</td>\n",
       "      <td>100,614</td>\n",
       "      <td>550</td>\n",
       "      <td>[]</td>\n",
       "      <td></td>\n",
       "      <td></td>\n",
       "      <td>NaN</td>\n",
       "      <td>NaN</td>\n",
       "    </tr>\n",
       "    <tr>\n",
       "      <th>2</th>\n",
       "      <td>2</td>\n",
       "      <td>Abbassi</td>\n",
       "      <td>Arash</td>\n",
       "      <td>107,289</td>\n",
       "      <td>104</td>\n",
       "      <td>['Intern, Strategy and Decision Support', 'Off...</td>\n",
       "      <td>Strategy and Decision Support   of the VicePre...</td>\n",
       "      <td>Intern</td>\n",
       "      <td>NaN</td>\n",
       "      <td>Intern</td>\n",
       "    </tr>\n",
       "    <tr>\n",
       "      <th>3</th>\n",
       "      <td>3</td>\n",
       "      <td>Abdalkhani</td>\n",
       "      <td>Arman</td>\n",
       "      <td>75,319</td>\n",
       "      <td>-</td>\n",
       "      <td>['Clinical Instructor, Otolaryngology - Head a...</td>\n",
       "      <td>Otolaryngology  Head and Neck Surgery  Associa...</td>\n",
       "      <td>Clinical Instructor</td>\n",
       "      <td>NaN</td>\n",
       "      <td>Instructor</td>\n",
       "    </tr>\n",
       "    <tr>\n",
       "      <th>4</th>\n",
       "      <td>4</td>\n",
       "      <td>Abdelaziz</td>\n",
       "      <td>Morad</td>\n",
       "      <td>117,078</td>\n",
       "      <td>3,549</td>\n",
       "      <td>['Assistant Professor', 'School of Engineering...</td>\n",
       "      <td>of Engineering</td>\n",
       "      <td>Assistant Professor</td>\n",
       "      <td>Engineering</td>\n",
       "      <td>Professor</td>\n",
       "    </tr>\n",
       "  </tbody>\n",
       "</table>\n",
       "</div>"
      ],
      "text/plain": [
       "   Unnamed: 0        Last Name     First Name Remuneration Expenses  \\\n",
       "0           0           Aamodt            Tor      221,891    1,901   \n",
       "1           1  Abanto Salguero  Arleni Karina      100,614      550   \n",
       "2           2          Abbassi          Arash      107,289      104   \n",
       "3           3       Abdalkhani          Arman       75,319        -   \n",
       "4           4        Abdelaziz          Morad      117,078    3,549   \n",
       "\n",
       "                                    Title/Department  \\\n",
       "0  ['Professor', 'Electrical and Computer Enginee...   \n",
       "1                                                 []   \n",
       "2  ['Intern, Strategy and Decision Support', 'Off...   \n",
       "3  ['Clinical Instructor, Otolaryngology - Head a...   \n",
       "4  ['Assistant Professor', 'School of Engineering...   \n",
       "\n",
       "                                          Department                Title  \\\n",
       "0                Electrical and Computer Engineering            Professor   \n",
       "1                                                                           \n",
       "2  Strategy and Decision Support   of the VicePre...               Intern   \n",
       "3  Otolaryngology  Head and Neck Surgery  Associa...  Clinical Instructor   \n",
       "4                                   of Engineering    Assistant Professor   \n",
       "\n",
       "  reduced_department Reduced Title  \n",
       "0        Engineering     Professor  \n",
       "1                NaN           NaN  \n",
       "2                NaN        Intern  \n",
       "3                NaN    Instructor  \n",
       "4        Engineering     Professor  "
      ]
     },
     "execution_count": 25,
     "metadata": {},
     "output_type": "execute_result"
    }
   ],
   "source": [
    "pop_df_dep['Reduced Title'] = '' # create new column for reduced title\n",
    "pop_df_dep['Title'] = pop_df_dep['Title'].str.title() # make sure Title column is in title case\n",
    "\n",
    "def reduce_title_or(df, str_list):\n",
    "    ''' if the title contains a string in the string list, reduce the title to that string'''\n",
    "    for reduced_str in str_list:\n",
    "        df.loc[df['Title'].str.contains(reduced_str), 'Reduced Title'] = reduced_str\n",
    "    return df\n",
    "\n",
    "\n",
    "pop_df_dep = reduce_title_or(pop_df_dep, ['Professor','Director','Research','Manager','Instructor','Lecturer',\n",
    "                                          'Adivsor','Librarian','Analyst','Intern','Admin','Lead',\n",
    "                                         'Coordinator','Writer','Architect','Officer'])\n",
    "\n",
    "pop_df_dep['Reduced Title'] = pop_df_dep['Reduced Title'].replace('',np.nan)\n",
    "pop_df_dep.head()"
   ]
  },
  {
   "cell_type": "markdown",
   "id": "9473be3e-6e47-412e-b0c4-73ab2b7415a3",
   "metadata": {},
   "source": [
    "Now we have cleaned data for title and department columns for each observation. The next step will be to predict gender data for each observation."
   ]
  },
  {
   "cell_type": "markdown",
   "id": "84d70d8e-7ebf-4249-b1f3-48da3fb32dcf",
   "metadata": {},
   "source": [
    "## Predicting Gender"
   ]
  },
  {
   "cell_type": "markdown",
   "id": "bb890d2d-199a-4b15-9356-81a0ea69f92b",
   "metadata": {},
   "source": [
    "Including gender data will allow for an interesting analysis of salary separated by gender. There is a well known pay gap between male and female employees around the world so it will be interesting to see if this gap shows up in the UBC faculty population as well. As mentioned in the introduction, requesting gender data from UBC would create the most accurate dataset. Instead, in order to practice natural language processing and data wrangling, I will attempt to predict gender values based on global gender data. Since these predictions may not be accurate, it is important to be skeptical of any hard conclusions drawn from analysis on this data."
   ]
  },
  {
   "cell_type": "markdown",
   "id": "400a0dde-9270-4617-b725-c460829179fc",
   "metadata": {},
   "source": [
    "### Using corpus"
   ]
  },
  {
   "cell_type": "markdown",
   "id": "c885ba73-eeff-4cc9-8a02-e801885d0e44",
   "metadata": {},
   "source": [
    "The easiest and quickest way to estimate the gender of the UBC faculty without asking UBC for the information is probably to a corpus with names and genders. Then for each name, I find whether there are more associated girl or guy names and the result will be the predicted gender."
   ]
  },
  {
   "cell_type": "markdown",
   "id": "34ae6469-77e2-4517-8e3d-642f0de87ffe",
   "metadata": {},
   "source": [
    "First, I will read in Canadian baby name data."
   ]
  },
  {
   "cell_type": "code",
   "execution_count": 26,
   "id": "39ca67b0-5cf3-4d82-af4f-5cdb5533a77b",
   "metadata": {},
   "outputs": [
    {
     "data": {
      "text/html": [
       "<div>\n",
       "<style scoped>\n",
       "    .dataframe tbody tr th:only-of-type {\n",
       "        vertical-align: middle;\n",
       "    }\n",
       "\n",
       "    .dataframe tbody tr th {\n",
       "        vertical-align: top;\n",
       "    }\n",
       "\n",
       "    .dataframe thead th {\n",
       "        text-align: right;\n",
       "    }\n",
       "</style>\n",
       "<table border=\"1\" class=\"dataframe\">\n",
       "  <thead>\n",
       "    <tr style=\"text-align: right;\">\n",
       "      <th></th>\n",
       "      <th>REF_DATE</th>\n",
       "      <th>GEO</th>\n",
       "      <th>DGUID</th>\n",
       "      <th>Sex at birth</th>\n",
       "      <th>First name at birth</th>\n",
       "      <th>Indicator</th>\n",
       "      <th>UOM</th>\n",
       "      <th>UOM_ID</th>\n",
       "      <th>SCALAR_FACTOR</th>\n",
       "      <th>SCALAR_ID</th>\n",
       "      <th>VECTOR</th>\n",
       "      <th>COORDINATE</th>\n",
       "      <th>VALUE</th>\n",
       "      <th>STATUS</th>\n",
       "      <th>SYMBOL</th>\n",
       "      <th>TERMINATED</th>\n",
       "      <th>DECIMALS</th>\n",
       "    </tr>\n",
       "  </thead>\n",
       "  <tbody>\n",
       "    <tr>\n",
       "      <th>0</th>\n",
       "      <td>1991</td>\n",
       "      <td>Canada</td>\n",
       "      <td>2021A000011124</td>\n",
       "      <td>Male</td>\n",
       "      <td>AARON</td>\n",
       "      <td>Frequency</td>\n",
       "      <td>Number</td>\n",
       "      <td>223</td>\n",
       "      <td>units</td>\n",
       "      <td>0</td>\n",
       "      <td>v1491674946</td>\n",
       "      <td>1.1.73.1</td>\n",
       "      <td>1049.0000</td>\n",
       "      <td>NaN</td>\n",
       "      <td>NaN</td>\n",
       "      <td>NaN</td>\n",
       "      <td>0</td>\n",
       "    </tr>\n",
       "    <tr>\n",
       "      <th>1</th>\n",
       "      <td>1991</td>\n",
       "      <td>Canada</td>\n",
       "      <td>2021A000011124</td>\n",
       "      <td>Male</td>\n",
       "      <td>AARON</td>\n",
       "      <td>Rank</td>\n",
       "      <td>Number</td>\n",
       "      <td>223</td>\n",
       "      <td>units</td>\n",
       "      <td>0</td>\n",
       "      <td>v1491690733</td>\n",
       "      <td>1.1.73.2</td>\n",
       "      <td>45.0000</td>\n",
       "      <td>NaN</td>\n",
       "      <td>NaN</td>\n",
       "      <td>NaN</td>\n",
       "      <td>0</td>\n",
       "    </tr>\n",
       "    <tr>\n",
       "      <th>2</th>\n",
       "      <td>1991</td>\n",
       "      <td>Canada</td>\n",
       "      <td>2021A000011124</td>\n",
       "      <td>Male</td>\n",
       "      <td>AARON</td>\n",
       "      <td>Proportion (%)</td>\n",
       "      <td>Percent</td>\n",
       "      <td>239</td>\n",
       "      <td>units</td>\n",
       "      <td>0</td>\n",
       "      <td>v1491706520</td>\n",
       "      <td>1.1.73.3</td>\n",
       "      <td>0.5442</td>\n",
       "      <td>NaN</td>\n",
       "      <td>NaN</td>\n",
       "      <td>NaN</td>\n",
       "      <td>4</td>\n",
       "    </tr>\n",
       "    <tr>\n",
       "      <th>3</th>\n",
       "      <td>1991</td>\n",
       "      <td>Canada</td>\n",
       "      <td>2021A000011124</td>\n",
       "      <td>Male</td>\n",
       "      <td>ABBAS</td>\n",
       "      <td>Frequency</td>\n",
       "      <td>Number</td>\n",
       "      <td>223</td>\n",
       "      <td>units</td>\n",
       "      <td>0</td>\n",
       "      <td>v1491674988</td>\n",
       "      <td>1.1.115.1</td>\n",
       "      <td>8.0000</td>\n",
       "      <td>NaN</td>\n",
       "      <td>NaN</td>\n",
       "      <td>NaN</td>\n",
       "      <td>0</td>\n",
       "    </tr>\n",
       "    <tr>\n",
       "      <th>4</th>\n",
       "      <td>1991</td>\n",
       "      <td>Canada</td>\n",
       "      <td>2021A000011124</td>\n",
       "      <td>Male</td>\n",
       "      <td>ABBAS</td>\n",
       "      <td>Rank</td>\n",
       "      <td>Number</td>\n",
       "      <td>223</td>\n",
       "      <td>units</td>\n",
       "      <td>0</td>\n",
       "      <td>v1491690775</td>\n",
       "      <td>1.1.115.2</td>\n",
       "      <td>1276.0000</td>\n",
       "      <td>NaN</td>\n",
       "      <td>NaN</td>\n",
       "      <td>NaN</td>\n",
       "      <td>0</td>\n",
       "    </tr>\n",
       "  </tbody>\n",
       "</table>\n",
       "</div>"
      ],
      "text/plain": [
       "   REF_DATE     GEO           DGUID Sex at birth First name at birth  \\\n",
       "0      1991  Canada  2021A000011124         Male               AARON   \n",
       "1      1991  Canada  2021A000011124         Male               AARON   \n",
       "2      1991  Canada  2021A000011124         Male               AARON   \n",
       "3      1991  Canada  2021A000011124         Male               ABBAS   \n",
       "4      1991  Canada  2021A000011124         Male               ABBAS   \n",
       "\n",
       "        Indicator      UOM  UOM_ID SCALAR_FACTOR  SCALAR_ID       VECTOR  \\\n",
       "0       Frequency   Number     223         units          0  v1491674946   \n",
       "1            Rank   Number     223         units          0  v1491690733   \n",
       "2  Proportion (%)  Percent     239         units          0  v1491706520   \n",
       "3       Frequency   Number     223         units          0  v1491674988   \n",
       "4            Rank   Number     223         units          0  v1491690775   \n",
       "\n",
       "  COORDINATE      VALUE  STATUS  SYMBOL  TERMINATED  DECIMALS  \n",
       "0   1.1.73.1  1049.0000     NaN     NaN         NaN         0  \n",
       "1   1.1.73.2    45.0000     NaN     NaN         NaN         0  \n",
       "2   1.1.73.3     0.5442     NaN     NaN         NaN         4  \n",
       "3  1.1.115.1     8.0000     NaN     NaN         NaN         0  \n",
       "4  1.1.115.2  1276.0000     NaN     NaN         NaN         0  "
      ]
     },
     "execution_count": 26,
     "metadata": {},
     "output_type": "execute_result"
    }
   ],
   "source": [
    "# Read in canadian data we will use to train our model\n",
    "# Data from statcan - https://www150.statcan.gc.ca/t1/tbl1/en/tv.action?pid=1710014701\n",
    "# Includes baby name data (name, sex at birth) for babies from 1991 to 2021\n",
    "canadian_names = pd.read_csv('data/17100147.csv')\n",
    "canadian_names['First name at birth'] = [i.split(' ')[0] for i in canadian_names['First name at birth']]\n",
    "canadian_names.head()"
   ]
  },
  {
   "cell_type": "markdown",
   "id": "2c1be7ff-ad14-46de-9633-d3497aa4d828",
   "metadata": {},
   "source": [
    "Then, I will find the total number of baby names split by sex and name (VALUE), as well as the total number of baby names just split by name (TOTAL VALUE).  "
   ]
  },
  {
   "cell_type": "code",
   "execution_count": 27,
   "id": "44350811-254d-4294-bee5-e0603a31cf95",
   "metadata": {},
   "outputs": [],
   "source": [
    "def find_totals(df):\n",
    "    '''add column with total counts across name'''\n",
    "    # Find the total count of male + female for each baby name\n",
    "    totals = df[['First name at birth','VALUE']].groupby(['First name at birth']).sum().reset_index().rename(columns = {'VALUE':'TOTAL VALUE'})\n",
    "    # Merge the total count with the rest of the baby name data\n",
    "    df = pd.merge(df, totals, on = 'First name at birth', how = 'left')\n",
    "    return df"
   ]
  },
  {
   "cell_type": "code",
   "execution_count": 28,
   "id": "935f178b-c135-4df9-9de2-b6812b512b2a",
   "metadata": {},
   "outputs": [
    {
     "data": {
      "text/html": [
       "<div>\n",
       "<style scoped>\n",
       "    .dataframe tbody tr th:only-of-type {\n",
       "        vertical-align: middle;\n",
       "    }\n",
       "\n",
       "    .dataframe tbody tr th {\n",
       "        vertical-align: top;\n",
       "    }\n",
       "\n",
       "    .dataframe thead th {\n",
       "        text-align: right;\n",
       "    }\n",
       "</style>\n",
       "<table border=\"1\" class=\"dataframe\">\n",
       "  <thead>\n",
       "    <tr style=\"text-align: right;\">\n",
       "      <th></th>\n",
       "      <th>Sex at birth</th>\n",
       "      <th>First name at birth</th>\n",
       "      <th>VALUE</th>\n",
       "      <th>TOTAL VALUE</th>\n",
       "    </tr>\n",
       "  </thead>\n",
       "  <tbody>\n",
       "    <tr>\n",
       "      <th>0</th>\n",
       "      <td>Female</td>\n",
       "      <td>AADHIRA</td>\n",
       "      <td>32.0</td>\n",
       "      <td>32.0</td>\n",
       "    </tr>\n",
       "    <tr>\n",
       "      <th>1</th>\n",
       "      <td>Female</td>\n",
       "      <td>AADHYA</td>\n",
       "      <td>223.0</td>\n",
       "      <td>223.0</td>\n",
       "    </tr>\n",
       "    <tr>\n",
       "      <th>2</th>\n",
       "      <td>Female</td>\n",
       "      <td>AADYA</td>\n",
       "      <td>148.0</td>\n",
       "      <td>148.0</td>\n",
       "    </tr>\n",
       "    <tr>\n",
       "      <th>3</th>\n",
       "      <td>Female</td>\n",
       "      <td>AAFIYA</td>\n",
       "      <td>11.0</td>\n",
       "      <td>11.0</td>\n",
       "    </tr>\n",
       "    <tr>\n",
       "      <th>4</th>\n",
       "      <td>Female</td>\n",
       "      <td>AAFIYAH</td>\n",
       "      <td>5.0</td>\n",
       "      <td>5.0</td>\n",
       "    </tr>\n",
       "  </tbody>\n",
       "</table>\n",
       "</div>"
      ],
      "text/plain": [
       "  Sex at birth First name at birth  VALUE  TOTAL VALUE\n",
       "0       Female             AADHIRA   32.0         32.0\n",
       "1       Female              AADHYA  223.0        223.0\n",
       "2       Female               AADYA  148.0        148.0\n",
       "3       Female              AAFIYA   11.0         11.0\n",
       "4       Female             AAFIYAH    5.0          5.0"
      ]
     },
     "execution_count": 28,
     "metadata": {},
     "output_type": "execute_result"
    }
   ],
   "source": [
    "# Group by baby name and sum frequency counts over the years, remove unnecessary features\n",
    "canadian_names = canadian_names.query(\"Indicator == 'Frequency'\")[['Sex at birth', 'First name at birth','VALUE']].groupby(['Sex at birth', 'First name at birth']).sum().reset_index()\n",
    "# Find the total count of male + female for each baby name\n",
    "canadian_names = find_totals(canadian_names)\n",
    "canadian_names.head()"
   ]
  },
  {
   "cell_type": "markdown",
   "id": "8ba93565-11cc-4263-ba8a-e501975a5f6d",
   "metadata": {},
   "source": [
    "Now, I will complete the same process with an american baby name dataset, making sure the american data is in the same format as the Canadian data."
   ]
  },
  {
   "cell_type": "code",
   "execution_count": 29,
   "id": "92f0c6ea-6049-4487-b788-6d995d3509f5",
   "metadata": {},
   "outputs": [
    {
     "data": {
      "text/html": [
       "<div>\n",
       "<style scoped>\n",
       "    .dataframe tbody tr th:only-of-type {\n",
       "        vertical-align: middle;\n",
       "    }\n",
       "\n",
       "    .dataframe tbody tr th {\n",
       "        vertical-align: top;\n",
       "    }\n",
       "\n",
       "    .dataframe thead th {\n",
       "        text-align: right;\n",
       "    }\n",
       "</style>\n",
       "<table border=\"1\" class=\"dataframe\">\n",
       "  <thead>\n",
       "    <tr style=\"text-align: right;\">\n",
       "      <th></th>\n",
       "      <th>Sex at birth</th>\n",
       "      <th>First name at birth</th>\n",
       "      <th>VALUE</th>\n",
       "      <th>TOTAL VALUE</th>\n",
       "    </tr>\n",
       "  </thead>\n",
       "  <tbody>\n",
       "    <tr>\n",
       "      <th>0</th>\n",
       "      <td>Female</td>\n",
       "      <td>Aabha</td>\n",
       "      <td>21</td>\n",
       "      <td>21</td>\n",
       "    </tr>\n",
       "    <tr>\n",
       "      <th>1</th>\n",
       "      <td>Female</td>\n",
       "      <td>Aabriella</td>\n",
       "      <td>10</td>\n",
       "      <td>10</td>\n",
       "    </tr>\n",
       "    <tr>\n",
       "      <th>2</th>\n",
       "      <td>Female</td>\n",
       "      <td>Aaden</td>\n",
       "      <td>5</td>\n",
       "      <td>3920</td>\n",
       "    </tr>\n",
       "    <tr>\n",
       "      <th>3</th>\n",
       "      <td>Female</td>\n",
       "      <td>Aadhira</td>\n",
       "      <td>29</td>\n",
       "      <td>29</td>\n",
       "    </tr>\n",
       "    <tr>\n",
       "      <th>4</th>\n",
       "      <td>Female</td>\n",
       "      <td>Aadhya</td>\n",
       "      <td>639</td>\n",
       "      <td>639</td>\n",
       "    </tr>\n",
       "  </tbody>\n",
       "</table>\n",
       "</div>"
      ],
      "text/plain": [
       "  Sex at birth First name at birth  VALUE  TOTAL VALUE\n",
       "0       Female               Aabha     21           21\n",
       "1       Female           Aabriella     10           10\n",
       "2       Female               Aaden      5         3920\n",
       "3       Female             Aadhira     29           29\n",
       "4       Female              Aadhya    639          639"
      ]
     },
     "execution_count": 29,
     "metadata": {},
     "output_type": "execute_result"
    }
   ],
   "source": [
    "# Read in extra data for american names and clean it up so that it can be merged with other training data\n",
    "# https://www.kaggle.com/datasets/kaggle/us-baby-names/code\n",
    "american_names = pd.read_csv(\"data/NationalNames.csv\")\n",
    "# If there are multiple names, just keep the first one\n",
    "american_names['Name'] = [i.split(' ')[0] for i in american_names['Name']]\n",
    "# Rename columns to match Canadian data\n",
    "american_names = american_names.rename(columns = {'Name':'First name at birth', 'Gender':'Sex at birth','Count':'VALUE'})\n",
    "# Relabel sex data to match Canadian data\n",
    "american_names['Sex at birth'] = american_names['Sex at birth'].replace({'F':'Female','M':'Male'})\n",
    "\n",
    "# Find counts for each name/gender combo over the years\n",
    "american_names = american_names[['Sex at birth', 'First name at birth','VALUE']].groupby(['Sex at birth', 'First name at birth']).sum().reset_index()\n",
    "# Find total for each name across gender\n",
    "american_names = find_totals(american_names)\n",
    "american_names.head()"
   ]
  },
  {
   "cell_type": "markdown",
   "id": "80e90c3c-321b-4faa-ab4e-46b713c574fe",
   "metadata": {},
   "source": [
    "The next step is to combine American and Candian data into one large dataset."
   ]
  },
  {
   "cell_type": "code",
   "execution_count": 30,
   "id": "4e8764bf-c9bf-462e-bce9-1e3011f65473",
   "metadata": {},
   "outputs": [
    {
     "data": {
      "text/html": [
       "<div>\n",
       "<style scoped>\n",
       "    .dataframe tbody tr th:only-of-type {\n",
       "        vertical-align: middle;\n",
       "    }\n",
       "\n",
       "    .dataframe tbody tr th {\n",
       "        vertical-align: top;\n",
       "    }\n",
       "\n",
       "    .dataframe thead th {\n",
       "        text-align: right;\n",
       "    }\n",
       "</style>\n",
       "<table border=\"1\" class=\"dataframe\">\n",
       "  <thead>\n",
       "    <tr style=\"text-align: right;\">\n",
       "      <th></th>\n",
       "      <th>Sex at birth</th>\n",
       "      <th>First name at birth</th>\n",
       "      <th>VALUE</th>\n",
       "      <th>TOTAL VALUE</th>\n",
       "    </tr>\n",
       "  </thead>\n",
       "  <tbody>\n",
       "    <tr>\n",
       "      <th>0</th>\n",
       "      <td>Female</td>\n",
       "      <td>Aabha</td>\n",
       "      <td>21.0</td>\n",
       "      <td>21.0</td>\n",
       "    </tr>\n",
       "    <tr>\n",
       "      <th>1</th>\n",
       "      <td>Female</td>\n",
       "      <td>Aabriella</td>\n",
       "      <td>10.0</td>\n",
       "      <td>10.0</td>\n",
       "    </tr>\n",
       "    <tr>\n",
       "      <th>2</th>\n",
       "      <td>Female</td>\n",
       "      <td>Aaden</td>\n",
       "      <td>5.0</td>\n",
       "      <td>3920.0</td>\n",
       "    </tr>\n",
       "    <tr>\n",
       "      <th>3</th>\n",
       "      <td>Female</td>\n",
       "      <td>Aadhira</td>\n",
       "      <td>61.0</td>\n",
       "      <td>61.0</td>\n",
       "    </tr>\n",
       "    <tr>\n",
       "      <th>4</th>\n",
       "      <td>Female</td>\n",
       "      <td>Aadhya</td>\n",
       "      <td>862.0</td>\n",
       "      <td>862.0</td>\n",
       "    </tr>\n",
       "  </tbody>\n",
       "</table>\n",
       "</div>"
      ],
      "text/plain": [
       "  Sex at birth First name at birth  VALUE  TOTAL VALUE\n",
       "0       Female               Aabha   21.0         21.0\n",
       "1       Female           Aabriella   10.0         10.0\n",
       "2       Female               Aaden    5.0       3920.0\n",
       "3       Female             Aadhira   61.0         61.0\n",
       "4       Female              Aadhya  862.0        862.0"
      ]
     },
     "execution_count": 30,
     "metadata": {},
     "output_type": "execute_result"
    }
   ],
   "source": [
    "# Combine american and canadian data\n",
    "combined_names = pd.concat([canadian_names,american_names])\n",
    "combined_names = combined_names.dropna()\n",
    "# make sure that the names are in Title Case to ensure consistency.\n",
    "combined_names['First name at birth'] = combined_names['First name at birth'].str.title()\n",
    "# sum up the value and total value counts for American and Canadian data\n",
    "combined_names = combined_names[['Sex at birth', 'First name at birth','VALUE','TOTAL VALUE']].groupby(['Sex at birth', 'First name at birth']).sum().reset_index()\n",
    "combined_names.head()"
   ]
  },
  {
   "cell_type": "markdown",
   "id": "adb811af-d6f1-4236-bccb-d4b1428feb29",
   "metadata": {},
   "source": [
    "Now, for each name I will find which sex has the highest percentage of observations (`Accuracy`) and only keep that sex in the dataset."
   ]
  },
  {
   "cell_type": "code",
   "execution_count": 31,
   "id": "dd99e2f5-f49b-47be-af6b-8e35536589d2",
   "metadata": {},
   "outputs": [
    {
     "data": {
      "text/html": [
       "<div>\n",
       "<style scoped>\n",
       "    .dataframe tbody tr th:only-of-type {\n",
       "        vertical-align: middle;\n",
       "    }\n",
       "\n",
       "    .dataframe tbody tr th {\n",
       "        vertical-align: top;\n",
       "    }\n",
       "\n",
       "    .dataframe thead th {\n",
       "        text-align: right;\n",
       "    }\n",
       "</style>\n",
       "<table border=\"1\" class=\"dataframe\">\n",
       "  <thead>\n",
       "    <tr style=\"text-align: right;\">\n",
       "      <th></th>\n",
       "      <th>index</th>\n",
       "      <th>Sex at birth</th>\n",
       "      <th>First name at birth</th>\n",
       "      <th>Accuracy</th>\n",
       "    </tr>\n",
       "  </thead>\n",
       "  <tbody>\n",
       "    <tr>\n",
       "      <th>95720</th>\n",
       "      <td>94924</td>\n",
       "      <td>Male</td>\n",
       "      <td>Ore</td>\n",
       "      <td>0.5</td>\n",
       "    </tr>\n",
       "    <tr>\n",
       "      <th>95620</th>\n",
       "      <td>74292</td>\n",
       "      <td>Male</td>\n",
       "      <td>Darley</td>\n",
       "      <td>0.5</td>\n",
       "    </tr>\n",
       "    <tr>\n",
       "      <th>95621</th>\n",
       "      <td>4052</td>\n",
       "      <td>Female</td>\n",
       "      <td>Anesti</td>\n",
       "      <td>0.5</td>\n",
       "    </tr>\n",
       "    <tr>\n",
       "      <th>95622</th>\n",
       "      <td>43955</td>\n",
       "      <td>Female</td>\n",
       "      <td>Murtha</td>\n",
       "      <td>0.5</td>\n",
       "    </tr>\n",
       "    <tr>\n",
       "      <th>95623</th>\n",
       "      <td>77553</td>\n",
       "      <td>Male</td>\n",
       "      <td>Elmi</td>\n",
       "      <td>0.5</td>\n",
       "    </tr>\n",
       "    <tr>\n",
       "      <th>...</th>\n",
       "      <td>...</td>\n",
       "      <td>...</td>\n",
       "      <td>...</td>\n",
       "      <td>...</td>\n",
       "    </tr>\n",
       "    <tr>\n",
       "      <th>31902</th>\n",
       "      <td>105128</td>\n",
       "      <td>Male</td>\n",
       "      <td>Yogi</td>\n",
       "      <td>1.0</td>\n",
       "    </tr>\n",
       "    <tr>\n",
       "      <th>31901</th>\n",
       "      <td>105129</td>\n",
       "      <td>Male</td>\n",
       "      <td>Yohaan</td>\n",
       "      <td>1.0</td>\n",
       "    </tr>\n",
       "    <tr>\n",
       "      <th>31900</th>\n",
       "      <td>105130</td>\n",
       "      <td>Male</td>\n",
       "      <td>Yohan</td>\n",
       "      <td>1.0</td>\n",
       "    </tr>\n",
       "    <tr>\n",
       "      <th>31909</th>\n",
       "      <td>105147</td>\n",
       "      <td>Male</td>\n",
       "      <td>Yomar</td>\n",
       "      <td>1.0</td>\n",
       "    </tr>\n",
       "    <tr>\n",
       "      <th>47860</th>\n",
       "      <td>17076</td>\n",
       "      <td>Female</td>\n",
       "      <td>Donalee</td>\n",
       "      <td>1.0</td>\n",
       "    </tr>\n",
       "  </tbody>\n",
       "</table>\n",
       "<p>95721 rows × 4 columns</p>\n",
       "</div>"
      ],
      "text/plain": [
       "        index Sex at birth First name at birth  Accuracy\n",
       "95720   94924         Male                 Ore       0.5\n",
       "95620   74292         Male              Darley       0.5\n",
       "95621    4052       Female              Anesti       0.5\n",
       "95622   43955       Female              Murtha       0.5\n",
       "95623   77553         Male                Elmi       0.5\n",
       "...       ...          ...                 ...       ...\n",
       "31902  105128         Male                Yogi       1.0\n",
       "31901  105129         Male              Yohaan       1.0\n",
       "31900  105130         Male               Yohan       1.0\n",
       "31909  105147         Male               Yomar       1.0\n",
       "47860   17076       Female             Donalee       1.0\n",
       "\n",
       "[95721 rows x 4 columns]"
      ]
     },
     "execution_count": 31,
     "metadata": {},
     "output_type": "execute_result"
    }
   ],
   "source": [
    "# Create a new column that contains the percentage of counts that are [fem/male] for the given baby name\n",
    "combined_names['Accuracy'] = round(combined_names['VALUE']/combined_names['TOTAL VALUE'],2)\n",
    "# keep row with the sex that has the highest accuracy\n",
    "combined_names = combined_names.sort_values('Accuracy', ascending=False).drop_duplicates('First name at birth').reset_index()\n",
    "# drop useless columns\n",
    "combined_names = combined_names.drop(columns = ['VALUE', 'TOTAL VALUE'])\n",
    "# sort values by accuracy\n",
    "combined_names.sort_values(by = 'Accuracy')"
   ]
  },
  {
   "cell_type": "markdown",
   "id": "44ac7392-1ddc-40c8-8219-e1fae463ed0d",
   "metadata": {},
   "source": [
    "Above we can see that names with accuracy close to 0.5 are names that are often used for males and females, while names with accuracy 1.0 are almost always used for just one sex."
   ]
  },
  {
   "cell_type": "markdown",
   "id": "e82869ff-a736-41ae-ba0a-6913a687b20b",
   "metadata": {},
   "source": [
    "After some investigation, I noticed that there were quite a few names of Indian origin in the UBC faculty dataset that were not included in our name corpus. Therefore, I will add names with Indian origin to the name corpus. This step wasn't integrated into the above process because this Indian name dataset does not have a 'counts' or 'value' column to determine sex `Accuracy`. Therefore, the accuracy column for this data will be filled with a fairly arbitrary value of 0.85."
   ]
  },
  {
   "cell_type": "code",
   "execution_count": 32,
   "id": "b3f9e709-4a1c-4ebe-92c0-3ca0ed70f440",
   "metadata": {},
   "outputs": [
    {
     "data": {
      "text/html": [
       "<div>\n",
       "<style scoped>\n",
       "    .dataframe tbody tr th:only-of-type {\n",
       "        vertical-align: middle;\n",
       "    }\n",
       "\n",
       "    .dataframe tbody tr th {\n",
       "        vertical-align: top;\n",
       "    }\n",
       "\n",
       "    .dataframe thead th {\n",
       "        text-align: right;\n",
       "    }\n",
       "</style>\n",
       "<table border=\"1\" class=\"dataframe\">\n",
       "  <thead>\n",
       "    <tr style=\"text-align: right;\">\n",
       "      <th></th>\n",
       "      <th>First name at birth</th>\n",
       "      <th>Sex at birth</th>\n",
       "      <th>Accuracy</th>\n",
       "    </tr>\n",
       "  </thead>\n",
       "  <tbody>\n",
       "    <tr>\n",
       "      <th>14840</th>\n",
       "      <td>Buddha</td>\n",
       "      <td>Male</td>\n",
       "      <td>0.85</td>\n",
       "    </tr>\n",
       "    <tr>\n",
       "      <th>14841</th>\n",
       "      <td>Mukesh</td>\n",
       "      <td>Male</td>\n",
       "      <td>0.85</td>\n",
       "    </tr>\n",
       "    <tr>\n",
       "      <th>14842</th>\n",
       "      <td>Monu</td>\n",
       "      <td>Male</td>\n",
       "      <td>0.85</td>\n",
       "    </tr>\n",
       "    <tr>\n",
       "      <th>14843</th>\n",
       "      <td>Govind</td>\n",
       "      <td>Male</td>\n",
       "      <td>0.85</td>\n",
       "    </tr>\n",
       "    <tr>\n",
       "      <th>14844</th>\n",
       "      <td>Deepak</td>\n",
       "      <td>Male</td>\n",
       "      <td>0.85</td>\n",
       "    </tr>\n",
       "  </tbody>\n",
       "</table>\n",
       "</div>"
      ],
      "text/plain": [
       "      First name at birth Sex at birth  Accuracy\n",
       "14840              Buddha         Male      0.85\n",
       "14841              Mukesh         Male      0.85\n",
       "14842                Monu         Male      0.85\n",
       "14843              Govind         Male      0.85\n",
       "14844              Deepak         Male      0.85"
      ]
     },
     "execution_count": 32,
     "metadata": {},
     "output_type": "execute_result"
    }
   ],
   "source": [
    "# Read in extra data for indian names and clean it up so that it can be merged with other training data\n",
    "# https://www.kaggle.com/datasets/ananysharma/indian-names-dataset\n",
    "f_indian_names = pd.read_csv('data/Indian-Female-Names.csv')\n",
    "m_indian_names = pd.read_csv('data/Indian-Male-Names.csv')\n",
    "# Combine female and male names\n",
    "indian_names = pd.concat([f_indian_names,m_indian_names])\n",
    "# rename columns to match name corpus\n",
    "indian_names = indian_names.rename(columns = {'name':'First name at birth', 'gender':'Sex at birth'})\n",
    "# relabel sex data to match name corpus\n",
    "indian_names['Sex at birth'] = indian_names['Sex at birth'].replace({'f':'Female','m':'Male'})\n",
    "# make sure names are in title case\n",
    "indian_names['First name at birth'] = indian_names['First name at birth'].str.title()\n",
    "# If there are multiple names, just keep the first one\n",
    "indian_names['First name at birth'] = [str(i).split(' ')[0] for i in indian_names['First name at birth']]\n",
    "# drop unnecessary columns\n",
    "indian_names = indian_names.drop(columns = ['race'])\n",
    "# Apply arbitrary accuracy value\n",
    "indian_names['Accuracy'] = 0.85\n",
    "indian_names.tail()"
   ]
  },
  {
   "cell_type": "markdown",
   "id": "3d0f9d4f-6534-4287-996d-056e73f88083",
   "metadata": {},
   "source": [
    "Now I will combine the Indian name data with the previous name dataset to create a more complete name corpus. I will only add names from the Indian name dataset that don't already exist in the data."
   ]
  },
  {
   "cell_type": "code",
   "execution_count": 33,
   "id": "677ad381-64da-4994-8307-4fac4c7627f5",
   "metadata": {},
   "outputs": [],
   "source": [
    "name_corpus = pd.concat([combined_names,indian_names]).drop_duplicates(subset = ['First name at birth'])"
   ]
  },
  {
   "cell_type": "markdown",
   "id": "3e107d6d-fa41-46d7-a899-ad00936685e3",
   "metadata": {},
   "source": [
    "Next, I will determine what the percentage of the names in the UBC dataset is that we can match to a sex using our name corpus. I will also create a dataset with UBC faculty members that still need a sex prediction."
   ]
  },
  {
   "cell_type": "code",
   "execution_count": 34,
   "id": "fbd51add-7e14-4c31-ada2-f10b1a04d1c6",
   "metadata": {},
   "outputs": [
    {
     "data": {
      "text/plain": [
       "0.9246873300706906"
      ]
     },
     "execution_count": 34,
     "metadata": {},
     "output_type": "execute_result"
    }
   ],
   "source": [
    "# Merge the names and gender dataset onto the UBC dataset to see if there are exact name matches\n",
    "pop_df_dep['First Name - drop'] = [str(i).split(' ')[0] for i in pop_df_dep['First Name']]\n",
    "pop_df_predicted = pd.merge(pop_df_dep, name_corpus, left_on = ['First Name - drop'], right_on = ['First name at birth'], how = 'left')\n",
    "pop_df_predicted = pop_df_predicted.drop(columns = ['First Name - drop'])\n",
    "# Create dataset for exact name matches\n",
    "pop_df_predictions = pop_df_predicted[pop_df_predicted['Sex at birth'].notnull()]\n",
    "# Create dataset where there was no exact match and sex still needs to be predicted\n",
    "pop_df_needs_predictions = pop_df_predicted[~pop_df_predicted['Sex at birth'].notnull()]\n",
    "# Find\n",
    "len(pop_df_predictions)/len(pop_df_predicted)"
   ]
  },
  {
   "cell_type": "code",
   "execution_count": 35,
   "id": "f7cbaf41-2fd7-4db5-9a01-2a7c30856af0",
   "metadata": {},
   "outputs": [
    {
     "data": {
      "text/plain": [
       "(7356, 11)"
      ]
     },
     "execution_count": 35,
     "metadata": {},
     "output_type": "execute_result"
    }
   ],
   "source": [
    "pop_df_dep.shape"
   ]
  },
  {
   "cell_type": "markdown",
   "id": "40598b77-db44-4069-bff7-9fd2320d5659",
   "metadata": {},
   "source": [
    "I was able to match 92% of the names in the UBC salary dataset with my corpus! However, there are still quite a few names that need gender predictions. For this task, I will use the nltk package."
   ]
  },
  {
   "cell_type": "code",
   "execution_count": 36,
   "id": "6f2c8991-8449-4bf7-97ad-f588def82a0c",
   "metadata": {},
   "outputs": [
    {
     "data": {
      "text/plain": [
       "13             Tamiza\n",
       "15             Purang\n",
       "16              Ninan\n",
       "22               Reto\n",
       "32             Sakiru\n",
       "            ...      \n",
       "7325              Fei\n",
       "7329    Shiping Steve\n",
       "7331           Youwen\n",
       "7347       Bingshuang\n",
       "7349          Zhengbo\n",
       "Name: First Name, Length: 554, dtype: object"
      ]
     },
     "execution_count": 36,
     "metadata": {},
     "output_type": "execute_result"
    }
   ],
   "source": [
    "pop_df_needs_predictions['First Name']"
   ]
  },
  {
   "cell_type": "markdown",
   "id": "28fee3fa-bbab-47d2-9f1e-df1547086a0c",
   "metadata": {},
   "source": [
    "### Using nltk"
   ]
  },
  {
   "cell_type": "markdown",
   "id": "bb9be601-e265-4bd8-b231-895a03d22b81",
   "metadata": {},
   "source": [
    "To predict the gender for the rest of the names, I will use natural language processing, specifically the nltk package. I will also use the name corpus I have put together as the training data."
   ]
  },
  {
   "cell_type": "markdown",
   "id": "19a7b0bf-8267-49c4-b6ac-6e3790b9fb4b",
   "metadata": {},
   "source": [
    "The first step is feature engineering. The features I will use are the last, two last, three last, four last, and five last letters in the name. This can capture patterns such as the four last letters 'etta' more often being used for girls names than boys names. "
   ]
  },
  {
   "cell_type": "code",
   "execution_count": 37,
   "id": "69209983-7168-4834-a99e-db676deaaecc",
   "metadata": {},
   "outputs": [],
   "source": [
    "# Return features of a name to be fed into our model\n",
    "def gender_features(word):\n",
    "    word = word.lower()\n",
    "    return {'last_5_letters': word[-5:], 'last_two_letters': word[-2:],\n",
    "            'last_letter': word[-1:], 'last_3_letters': word[-3:], 'last_4_letters': word[-4:], 'name': word}"
   ]
  },
  {
   "cell_type": "markdown",
   "id": "ca005d1f-ae12-4fa0-a741-3087594183c9",
   "metadata": {},
   "source": [
    "In order to evaluate how well this gender classifier model works, I will shuffle the name corpus, apply feature engineering to the dataset, and then split it into training data and testing data. "
   ]
  },
  {
   "cell_type": "code",
   "execution_count": 38,
   "id": "c3318c57-c00d-4575-8a4c-a7c422d2d774",
   "metadata": {},
   "outputs": [],
   "source": [
    "# shuffle our data\n",
    "name_corpus = name_corpus.sample(frac=1,random_state=123)"
   ]
  },
  {
   "cell_type": "code",
   "execution_count": 39,
   "id": "b57afd38-6da1-4572-a269-edaffdbbf18a",
   "metadata": {},
   "outputs": [],
   "source": [
    "# collect features for each name in our data\n",
    "featuresets = [(gender_features(row['First name at birth']), row['Sex at birth']) for (index, row) in name_corpus.iterrows()]"
   ]
  },
  {
   "cell_type": "code",
   "execution_count": 40,
   "id": "604b64c6-e537-40ae-8d88-39a732a90b47",
   "metadata": {},
   "outputs": [],
   "source": [
    "# split the shuffled data into train and test sets\n",
    "train_set, test_set = featuresets[3157:], featuresets[:3157]"
   ]
  },
  {
   "cell_type": "markdown",
   "id": "2d7654b2-7385-4042-a945-4c316886fe42",
   "metadata": {},
   "source": [
    "Next, I will train the classifier on the training data."
   ]
  },
  {
   "cell_type": "code",
   "execution_count": 41,
   "id": "0fcd99f4-4856-40f2-a1e0-10c1878bc466",
   "metadata": {},
   "outputs": [],
   "source": [
    "# train our classifier with the train set\n",
    "classifier = nltk.NaiveBayesClassifier.train(train_set)"
   ]
  },
  {
   "cell_type": "markdown",
   "id": "ca3b2919-cbd5-4b5e-9ab5-a6fcb91004f8",
   "metadata": {},
   "source": [
    "Now, I can score the model with the test set to see how accurate the classifier is."
   ]
  },
  {
   "cell_type": "code",
   "execution_count": 42,
   "id": "186f1637-1bd0-41e6-bb62-1b0fda1a1b8b",
   "metadata": {},
   "outputs": [
    {
     "data": {
      "text/plain": [
       "0.85"
      ]
     },
     "execution_count": 42,
     "metadata": {},
     "output_type": "execute_result"
    }
   ],
   "source": [
    "# score our classifier with the test set\n",
    "accuracy = round(nltk.classify.accuracy(classifier, test_set),2)\n",
    "accuracy"
   ]
  },
  {
   "cell_type": "markdown",
   "id": "c1b9ce10-3b91-46eb-8c03-0fde5a3d4f21",
   "metadata": {},
   "source": [
    "87 percent accuracy is pretty good. However, the accuracy on the actual data is likely lower that 85 since the actual data contains more unique, unusual names that were not found in our name corpus."
   ]
  },
  {
   "cell_type": "markdown",
   "id": "8ced43be-f314-42ef-8798-a7796c83d4be",
   "metadata": {},
   "source": [
    "Below we can check which features are most informative for our classifier."
   ]
  },
  {
   "cell_type": "code",
   "execution_count": 43,
   "id": "850bffcc-ebc5-4860-ac64-d5be498360a7",
   "metadata": {},
   "outputs": [
    {
     "name": "stdout",
     "output_type": "stream",
     "text": [
      "Most Informative Features\n",
      "          last_4_letters = 'isha'         Female : Male   =    310.2 : 1.0\n",
      "          last_3_letters = 'ena'          Female : Male   =    264.0 : 1.0\n",
      "          last_4_letters = 'etta'         Female : Male   =    196.6 : 1.0\n",
      "          last_3_letters = 'cia'          Female : Male   =    182.5 : 1.0\n",
      "          last_4_letters = 'onna'         Female : Male   =    142.6 : 1.0\n",
      "          last_3_letters = 'sia'          Female : Male   =    138.5 : 1.0\n",
      "          last_4_letters = 'rick'           Male : Female =    137.5 : 1.0\n",
      "          last_3_letters = 'ina'          Female : Male   =    136.5 : 1.0\n",
      "          last_3_letters = 'isa'          Female : Male   =    120.7 : 1.0\n",
      "          last_4_letters = 'anna'         Female : Male   =    113.8 : 1.0\n"
     ]
    }
   ],
   "source": [
    "# print out most informative features for the classifier\n",
    "classifier.show_most_informative_features()"
   ]
  },
  {
   "cell_type": "markdown",
   "id": "476cc078-97ae-44cd-8802-47c5e1c94066",
   "metadata": {},
   "source": [
    "Some of the more informative features for females are names ending with 'isha','etta', and 'ena'. One of the more informative features for males are names ending with 'rick'."
   ]
  },
  {
   "cell_type": "markdown",
   "id": "d46beb4a-fdc5-449c-91f2-aae83d0fcb25",
   "metadata": {},
   "source": [
    "Finally, I can predict the gender of names in the UBC dataset that still do not have an assigned gender. The accuracy for these predictions will be the value provided by the classifiers prob_classify_many function."
   ]
  },
  {
   "cell_type": "code",
   "execution_count": 44,
   "id": "c541de1c-6bb3-4db5-be2f-75eaa560f0d5",
   "metadata": {},
   "outputs": [],
   "source": [
    "# collect features for each name in our UBC data that still needs a sex assigned\n",
    "pop_testset = [(gender_features(row['First Name'])) for (index, row) in pop_df_needs_predictions.iterrows()]"
   ]
  },
  {
   "cell_type": "code",
   "execution_count": 45,
   "id": "f98c1a17-e352-41f0-92b1-e0c0b0e7eb36",
   "metadata": {},
   "outputs": [
    {
     "data": {
      "text/html": [
       "<div>\n",
       "<style scoped>\n",
       "    .dataframe tbody tr th:only-of-type {\n",
       "        vertical-align: middle;\n",
       "    }\n",
       "\n",
       "    .dataframe tbody tr th {\n",
       "        vertical-align: top;\n",
       "    }\n",
       "\n",
       "    .dataframe thead th {\n",
       "        text-align: right;\n",
       "    }\n",
       "</style>\n",
       "<table border=\"1\" class=\"dataframe\">\n",
       "  <thead>\n",
       "    <tr style=\"text-align: right;\">\n",
       "      <th></th>\n",
       "      <th>Unnamed: 0</th>\n",
       "      <th>Last Name</th>\n",
       "      <th>First Name</th>\n",
       "      <th>Remuneration</th>\n",
       "      <th>Expenses</th>\n",
       "      <th>Title/Department</th>\n",
       "      <th>Department</th>\n",
       "      <th>Title</th>\n",
       "      <th>reduced_department</th>\n",
       "      <th>Reduced Title</th>\n",
       "      <th>index</th>\n",
       "      <th>Sex at birth</th>\n",
       "      <th>First name at birth</th>\n",
       "      <th>Accuracy</th>\n",
       "    </tr>\n",
       "  </thead>\n",
       "  <tbody>\n",
       "    <tr>\n",
       "      <th>13</th>\n",
       "      <td>13</td>\n",
       "      <td>Abji</td>\n",
       "      <td>Tamiza</td>\n",
       "      <td>105,163</td>\n",
       "      <td>357</td>\n",
       "      <td>['Faculty of Medicine']</td>\n",
       "      <td>Medicine</td>\n",
       "      <td></td>\n",
       "      <td>Medicine</td>\n",
       "      <td>NaN</td>\n",
       "      <td>NaN</td>\n",
       "      <td>Female</td>\n",
       "      <td>NaN</td>\n",
       "      <td>0.999697</td>\n",
       "    </tr>\n",
       "    <tr>\n",
       "      <th>15</th>\n",
       "      <td>15</td>\n",
       "      <td>Abolmaesumi</td>\n",
       "      <td>Purang</td>\n",
       "      <td>277,459</td>\n",
       "      <td>3,927</td>\n",
       "      <td>['Professor', 'Electrical and Computer Enginee...</td>\n",
       "      <td>Electrical and Computer Engineering</td>\n",
       "      <td>Professor</td>\n",
       "      <td>Engineering</td>\n",
       "      <td>Professor</td>\n",
       "      <td>NaN</td>\n",
       "      <td>Male</td>\n",
       "      <td>NaN</td>\n",
       "      <td>0.997848</td>\n",
       "    </tr>\n",
       "    <tr>\n",
       "      <th>16</th>\n",
       "      <td>16</td>\n",
       "      <td>Abraham</td>\n",
       "      <td>Ninan</td>\n",
       "      <td>222,496</td>\n",
       "      <td>419</td>\n",
       "      <td>['Professor Dept of Zoology (Cell Biology Grou...</td>\n",
       "      <td>Microbiology and Immunology</td>\n",
       "      <td>Professor Dept Of Zoology (Cell Biology Group)</td>\n",
       "      <td>Medicine</td>\n",
       "      <td>Professor</td>\n",
       "      <td>NaN</td>\n",
       "      <td>Male</td>\n",
       "      <td>NaN</td>\n",
       "      <td>0.998950</td>\n",
       "    </tr>\n",
       "    <tr>\n",
       "      <th>22</th>\n",
       "      <td>22</td>\n",
       "      <td>Achermann</td>\n",
       "      <td>Reto</td>\n",
       "      <td>86,129</td>\n",
       "      <td>295</td>\n",
       "      <td>['Postdoctoral Research Fellow', 'Computer Sci...</td>\n",
       "      <td>Computer Science</td>\n",
       "      <td>Postdoctoral Research Fellow</td>\n",
       "      <td>Computer Science</td>\n",
       "      <td>Research</td>\n",
       "      <td>NaN</td>\n",
       "      <td>Male</td>\n",
       "      <td>NaN</td>\n",
       "      <td>0.999952</td>\n",
       "    </tr>\n",
       "    <tr>\n",
       "      <th>32</th>\n",
       "      <td>32</td>\n",
       "      <td>Adebayo</td>\n",
       "      <td>Sakiru</td>\n",
       "      <td>75,564</td>\n",
       "      <td>2,374</td>\n",
       "      <td>['English and Cultural Studies - UBC Okanagan']</td>\n",
       "      <td>English and Cultural Studies</td>\n",
       "      <td></td>\n",
       "      <td>Cultural Studies</td>\n",
       "      <td>NaN</td>\n",
       "      <td>NaN</td>\n",
       "      <td>Male</td>\n",
       "      <td>NaN</td>\n",
       "      <td>0.804160</td>\n",
       "    </tr>\n",
       "  </tbody>\n",
       "</table>\n",
       "</div>"
      ],
      "text/plain": [
       "    Unnamed: 0    Last Name First Name Remuneration Expenses  \\\n",
       "13          13         Abji     Tamiza      105,163      357   \n",
       "15          15  Abolmaesumi     Purang      277,459    3,927   \n",
       "16          16      Abraham      Ninan      222,496      419   \n",
       "22          22    Achermann       Reto       86,129      295   \n",
       "32          32      Adebayo     Sakiru       75,564    2,374   \n",
       "\n",
       "                                     Title/Department  \\\n",
       "13                            ['Faculty of Medicine']   \n",
       "15  ['Professor', 'Electrical and Computer Enginee...   \n",
       "16  ['Professor Dept of Zoology (Cell Biology Grou...   \n",
       "22  ['Postdoctoral Research Fellow', 'Computer Sci...   \n",
       "32    ['English and Cultural Studies - UBC Okanagan']   \n",
       "\n",
       "                             Department  \\\n",
       "13                             Medicine   \n",
       "15  Electrical and Computer Engineering   \n",
       "16          Microbiology and Immunology   \n",
       "22                     Computer Science   \n",
       "32       English and Cultural Studies     \n",
       "\n",
       "                                             Title reduced_department  \\\n",
       "13                                                           Medicine   \n",
       "15                                       Professor        Engineering   \n",
       "16  Professor Dept Of Zoology (Cell Biology Group)           Medicine   \n",
       "22                    Postdoctoral Research Fellow   Computer Science   \n",
       "32                                                   Cultural Studies   \n",
       "\n",
       "   Reduced Title  index Sex at birth First name at birth  Accuracy  \n",
       "13           NaN    NaN       Female                 NaN  0.999697  \n",
       "15     Professor    NaN         Male                 NaN  0.997848  \n",
       "16     Professor    NaN         Male                 NaN  0.998950  \n",
       "22      Research    NaN         Male                 NaN  0.999952  \n",
       "32           NaN    NaN         Male                 NaN  0.804160  "
      ]
     },
     "execution_count": 45,
     "metadata": {},
     "output_type": "execute_result"
    }
   ],
   "source": [
    "# Make predictions and note the classifier accuracy\n",
    "pop_df_needs_predictions.loc[:,'Sex at birth'] = classifier.classify_many(pop_testset)\n",
    "# For accuracy I am using the predict proba score given by the classifier\n",
    "pop_df_needs_predictions.loc[:,'Accuracy'] = [max(i.prob('Male'),i.prob('Female')) for i in classifier.prob_classify_many(pop_testset)]\n",
    "pop_df_needs_predictions.head()"
   ]
  },
  {
   "cell_type": "markdown",
   "id": "f366c645-28f6-4979-969b-e007970a3c96",
   "metadata": {},
   "source": [
    "Now that every UBC faculty member has an assigned gender, I can concat the the corpus-prediction dataset and the nltk-prediction dataset together."
   ]
  },
  {
   "cell_type": "code",
   "execution_count": 46,
   "id": "a763348e-7e08-431d-9bf6-d055b4a7ab06",
   "metadata": {},
   "outputs": [],
   "source": [
    "# Collect all the data together\n",
    "pop_df_complete = pd.concat([pop_df_predictions, pop_df_needs_predictions]).drop(columns = ['First name at birth'])"
   ]
  },
  {
   "cell_type": "markdown",
   "id": "75811c93-0aa1-442e-a690-90ed44ed63eb",
   "metadata": {},
   "source": [
    "Below I will create a histogram of all of the accuracies to get a sense of how confident I can be in the predictions."
   ]
  },
  {
   "cell_type": "code",
   "execution_count": 47,
   "id": "0e5f5731-7f8f-4d29-adbe-4e40b623ca34",
   "metadata": {},
   "outputs": [
    {
     "data": {
      "text/plain": [
       "Text(0.5, 0, 'Predicted Gender Accuracies')"
      ]
     },
     "execution_count": 47,
     "metadata": {},
     "output_type": "execute_result"
    },
    {
     "data": {
      "image/png": "[encoded data removed]",
      "text/plain": [
       "<Figure size 800x550 with 1 Axes>"
      ]
     },
     "metadata": {},
     "output_type": "display_data"
    }
   ],
   "source": [
    "# Histogram of recorded accuracies for each predicted gender\n",
    "pop_df_complete['Accuracy'].plot.hist(bins=50)\n",
    "plt.title('Histogram of Predicted Gender Accuracies')\n",
    "plt.xlabel('Predicted Gender Accuracies')"
   ]
  },
  {
   "cell_type": "markdown",
   "id": "3c402305-1d89-4840-9b97-e6f06fe4e07a",
   "metadata": {},
   "source": [
    "It's great to see that most of the recorded accuracies are very high. It's also important to remember that these estimated accuracies may not accurately represent how correct the predictions are. One reason for this is that for the nltk classifier, the training data was not very representative of the data that needed predictions."
   ]
  },
  {
   "cell_type": "code",
   "execution_count": 48,
   "id": "356a89a3-ba95-4574-89a7-c2eae31c64eb",
   "metadata": {},
   "outputs": [
    {
     "data": {
      "text/plain": [
       "0.04051114736269712"
      ]
     },
     "execution_count": 48,
     "metadata": {},
     "output_type": "execute_result"
    }
   ],
   "source": [
    "pop_df_complete[pop_df_complete['Accuracy'] < 0.8].shape[0]/pop_df_complete.shape[0]"
   ]
  },
  {
   "cell_type": "markdown",
   "id": "b173dc3e-3024-45bc-aa8d-e6d2a89b7a7e",
   "metadata": {},
   "source": [
    "In order to ensure that conclusions gathered from this data are more accurate, I will replace the estimated gender with null values for observations with accuracies under 80%. This will only affect around 4% of observations."
   ]
  },
  {
   "cell_type": "code",
   "execution_count": 49,
   "id": "066da672-110e-4a78-9e40-74cf9b86038a",
   "metadata": {},
   "outputs": [],
   "source": [
    "pop_df_complete.loc[pop_df_complete['Accuracy'] < 0.8,'Sex at birth'] = \"\""
   ]
  },
  {
   "cell_type": "markdown",
   "id": "6df32672-f236-49cd-875f-ce805df316fb",
   "metadata": {},
   "source": [
    "Finally, I will export the data to be used to create a Tableau dashboard."
   ]
  },
  {
   "cell_type": "code",
   "execution_count": 50,
   "id": "3cd2b7f1-0712-407a-88ac-8c238a1146be",
   "metadata": {},
   "outputs": [],
   "source": [
    "# export dataset\n",
    "pop_df_complete.to_excel('/Users/jadebouchard/Desktop/ubc_salary_deparment_gender.xlsx')"
   ]
  },
  {
   "cell_type": "markdown",
   "id": "5526d539-aafc-4f83-847e-a8affc8bed14",
   "metadata": {},
   "source": [
    "## Data Visualization"
   ]
  },
  {
   "cell_type": "markdown",
   "id": "3b2e4377-385f-4874-b329-781e01d5549a",
   "metadata": {},
   "source": [
    "Below is a Tableau dashboard showing a visual representation of the data.\n",
    "The dashboard can also be accessed through this [link](https://public.tableau.com/views/UBCSalary/Dashboard1?:language=en-US&:display_count=n&:origin=viz_share_link)."
   ]
  },
  {
   "cell_type": "markdown",
   "id": "850bc171-2735-43f9-a4ef-a4cbf708fcc7",
   "metadata": {},
   "source": [
    "- The top left graph is a histogram of salary, stacked by gender.\n",
    "- The top right graph is a bar chart of median salaries, split by job title and gender\n",
    "- The bottom left graph is a circle bar chart of median salaries split by gender and department\n",
    "- The bottom right graph is a side-by-side box plot of salaries, split by department\n",
    "\n",
    "You can hover over a portion of a plot to get exact values. In addition, you can filter by title and department on the right side of the dashboard."
   ]
  },
  {
   "cell_type": "code",
   "execution_count": 51,
   "id": "f4eef732-8274-471a-8455-16798663ee20",
   "metadata": {},
   "outputs": [
    {
     "data": {
      "text/html": [
       "<div class='tableauPlaceholder' id='viz1700094097675' style='position: relative'><noscript><a href='#'><img alt='Dashboard 1 ' src='https:&#47;&#47;public.tableau.com&#47;static&#47;images&#47;UB&#47;UBCSalary&#47;Dashboard1&#47;1_rss.png' style='border: none' /></a></noscript><object class='tableauViz'  style='display:none;'><param name='host_url' value='https%3A%2F%2Fpublic.tableau.com%2F' /> <param name='embed_code_version' value='3' /> <param name='site_root' value='' /><param name='name' value='UBCSalary&#47;Dashboard1' /><param name='tabs' value='no' /><param name='toolbar' value='yes' /><param name='static_image' value='https:&#47;&#47;public.tableau.com&#47;static&#47;images&#47;UB&#47;UBCSalary&#47;Dashboard1&#47;1.png' /> <param name='animate_transition' value='yes' /><param name='display_static_image' value='yes' /><param name='display_spinner' value='yes' /><param name='display_overlay' value='yes' /><param name='display_count' value='yes' /><param name='language' value='en-US' /></object></div>                <script type='text/javascript'>                    var divElement = document.getElementById('viz1700094097675');                    var vizElement = divElement.getElementsByTagName('object')[0];                    if ( divElement.offsetWidth > 800 ) { vizElement.style.width='1120px';vizElement.style.minHeight='587px';vizElement.style.maxHeight='687px';vizElement.style.height=(divElement.offsetWidth*0.75)+'px';} else if ( divElement.offsetWidth > 500 ) { vizElement.style.width='1120px';vizElement.style.minHeight='587px';vizElement.style.maxHeight='687px';vizElement.style.height=(divElement.offsetWidth*0.75)+'px';} else { vizElement.style.width='100%';vizElement.style.height='1377px';}                     var scriptElement = document.createElement('script');                    scriptElement.src = 'https://public.tableau.com/javascripts/api/viz_v1.js';                    vizElement.parentNode.insertBefore(scriptElement, vizElement);                </script>\n"
      ],
      "text/plain": [
       "<IPython.core.display.HTML object>"
      ]
     },
     "metadata": {},
     "output_type": "display_data"
    }
   ],
   "source": [
    "%%HTML\n",
    "<div class='tableauPlaceholder' id='viz1700094097675' style='position: relative'><noscript><a href='#'><img alt='Dashboard 1 ' src='https:&#47;&#47;public.tableau.com&#47;static&#47;images&#47;UB&#47;UBCSalary&#47;Dashboard1&#47;1_rss.png' style='border: none' /></a></noscript><object class='tableauViz'  style='display:none;'><param name='host_url' value='https%3A%2F%2Fpublic.tableau.com%2F' /> <param name='embed_code_version' value='3' /> <param name='site_root' value='' /><param name='name' value='UBCSalary&#47;Dashboard1' /><param name='tabs' value='no' /><param name='toolbar' value='yes' /><param name='static_image' value='https:&#47;&#47;public.tableau.com&#47;static&#47;images&#47;UB&#47;UBCSalary&#47;Dashboard1&#47;1.png' /> <param name='animate_transition' value='yes' /><param name='display_static_image' value='yes' /><param name='display_spinner' value='yes' /><param name='display_overlay' value='yes' /><param name='display_count' value='yes' /><param name='language' value='en-US' /></object></div>                <script type='text/javascript'>                    var divElement = document.getElementById('viz1700094097675');                    var vizElement = divElement.getElementsByTagName('object')[0];                    if ( divElement.offsetWidth > 800 ) { vizElement.style.width='1120px';vizElement.style.minHeight='587px';vizElement.style.maxHeight='687px';vizElement.style.height=(divElement.offsetWidth*0.75)+'px';} else if ( divElement.offsetWidth > 500 ) { vizElement.style.width='1120px';vizElement.style.minHeight='587px';vizElement.style.maxHeight='687px';vizElement.style.height=(divElement.offsetWidth*0.75)+'px';} else { vizElement.style.width='100%';vizElement.style.height='1377px';}                     var scriptElement = document.createElement('script');                    scriptElement.src = 'https://public.tableau.com/javascripts/api/viz_v1.js';                    vizElement.parentNode.insertBefore(scriptElement, vizElement);                </script>"
   ]
  },
  {
   "cell_type": "markdown",
   "id": "78b30fcf-9490-4609-8649-824fb399d21e",
   "metadata": {},
   "source": [
    "## Conclusion"
   ]
  },
  {
   "cell_type": "markdown",
   "id": "1ac62f55-eee1-4b94-b39b-d887cecc8aa1",
   "metadata": {},
   "source": [
    "In summary, I accomplished my main objective of gaining experience in wrangling data and machine learning. In addition, I was able to visualize the data using an interactive Tableau dashboard. This method of presenting the data seems to be much more user-friendly than the PDF that the University of British Columbia provides."
   ]
  },
  {
   "cell_type": "markdown",
   "id": "501905bc-b6ac-48d1-b4ba-30ecf40ec201",
   "metadata": {},
   "source": [
    "**Data Analysis**"
   ]
  },
  {
   "cell_type": "markdown",
   "id": "672a439a-ff91-4ab0-aab0-3fe62f9bf8f2",
   "metadata": {},
   "source": [
    "There are many potential conclusions to be derived from the data presented here. This project stops short at the analysis of the data as the primary objective is to wrangle and visualize the data, which has been accomplished. For future work, an analysis on the statistical significance of salary disparity between genders, titles, and departments would be interesting."
   ]
  },
  {
   "cell_type": "markdown",
   "id": "33a415c7-1990-481c-910b-5d14fb43ef4b",
   "metadata": {},
   "source": [
    "If you are interested in seeing demonstrations of my analysis skills, please check out the following projects on GitHub:\n",
    "</br>[Forest Fire Impact Prediction Using Linear Regression](https://github.com/jjadeb/Stat_301_Project)\n",
    "</br>[Impact of Internet Access on Final Grade Using the T-Test](https://github.com/jjadeb/stat-201-project)\n",
    "</br>[Analysis of Celebrity Age of Death using Stratified Sampling](https://github.com/jjadeb/STAT334-Project)"
   ]
  },
  {
   "cell_type": "markdown",
   "id": "e15a399d-1409-40d0-845c-79c17f6bb6ce",
   "metadata": {},
   "source": [
    "**Data Limitations**"
   ]
  },
  {
   "cell_type": "markdown",
   "id": "92fd214c-c2cd-48e6-91b4-fd30ad165e1f",
   "metadata": {},
   "source": [
    "Any conclusions drawn from the data must take into account the inaccuracies of the department, job title, and gender information. This is partly due to the error involved in clustering and natural language classifiers. In addition, we saw there were many missing data-points for department and title information, therefore the data in the visualization may not accurately represent the entirety of the UBC faculty."
   ]
  },
  {
   "cell_type": "markdown",
   "id": "8f169abf-3c5b-4251-9c24-242dda3fc7e1",
   "metadata": {},
   "source": [
    "**Final Note**"
   ]
  },
  {
   "cell_type": "markdown",
   "id": "7b38cb63-f958-4573-8b28-23ce970e8dcd",
   "metadata": {},
   "source": [
    "Overall, this project not only advanced my skills in data manipulation and visualization but also laid the groundwork for future in-depth analyses. I also enhanced my understanding around how data collection and cleaning methods can lead to data limitations, impacting the ability to make meaningful conclusions during analysis."
   ]
  }
 ],
 "metadata": {
  "kernelspec": {
   "display_name": "Python [conda env:cpsc330]",
   "language": "python",
   "name": "conda-env-cpsc330-py"
  },
  "language_info": {
   "codemirror_mode": {
    "name": "ipython",
    "version": 3
   },
   "file_extension": ".py",
   "mimetype": "text/x-python",
   "name": "python",
   "nbconvert_exporter": "python",
   "pygments_lexer": "ipython3",
   "version": "3.10.0"
  }
 },
 "nbformat": 4,
 "nbformat_minor": 5
}
