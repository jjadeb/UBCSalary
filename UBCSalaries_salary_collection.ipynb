{
 "cells": [
  {
   "cell_type": "code",
   "execution_count": 1,
   "id": "049fcc89-134c-488e-9acf-583bf7955766",
   "metadata": {},
   "outputs": [],
   "source": [
    "# Import statements\n",
    "from hashlib import sha1\n",
    "\n",
    "import matplotlib.pyplot as plt\n",
    "import numpy as np\n",
    "import pandas as pd\n",
    "import random\n",
    "import openpyxl\n",
    "import pylab as plt\n",
    "import glob\n",
    "import os\n",
    "\n",
    "import nltk\n",
    "\n",
    "plt.rcParams[\"font.size\"] = 16\n",
    "\n",
    "from sklearn.model_selection import cross_val_score, cross_validate, train_test_split\n",
    "from sklearn.tree import DecisionTreeClassifier\n",
    "from sklearn.dummy import DummyClassifier\n",
    "\n",
    "from sklearn.compose import make_column_transformer\n",
    "from sklearn.feature_extraction.text import CountVectorizer\n",
    "from sklearn.cluster import KMeans\n",
    "from sklearn.cluster import DBSCAN\n",
    "from sklearn.pipeline import make_pipeline\n",
    "from wordcloud import WordCloud\n",
    "from yellowbrick.cluster import KElbowVisualizer\n",
    "from yellowbrick.cluster import SilhouetteVisualizer\n",
    "\n",
    "from sentence_transformers import SentenceTransformer\n",
    "import torch\n",
    "\n",
    "import regex as re\n",
    "import pandas as pd\n",
    "from bs4 import BeautifulSoup\n",
    "\n",
    "import io\n",
    "\n",
    "import requests\n",
    "from pypdf import PdfReader"
   ]
  },
  {
   "cell_type": "markdown",
   "id": "1b5cb446-b907-42e8-8a3f-749a1ce4eee0",
   "metadata": {},
   "source": [
    "# UBC Salaries Across Gender, Department, and Job Title"
   ]
  },
  {
   "cell_type": "markdown",
   "id": "d0a0c6aa-88b0-4d85-916f-d59090686d26",
   "metadata": {},
   "source": [
    "## Introduction"
   ]
  },
  {
   "cell_type": "markdown",
   "id": "68f3db72-7201-4015-aa90-95e6ccdf71c2",
   "metadata": {},
   "source": [
    "The primary objective of this project is to develop skills in data wrangling, machine learning, and Tableau. A secondary goal is to create a Tableau dashboard for visualizing University of British Columbia (UBC) faculty salaries based on gender, department, and job title.\n",
    "\n",
    "To prioritize learning, rather than directly requesting salary data from UBC by department, job title, and gender, I will rely on the annual PDF of salary data released by UBC, along with information from UBC's faculty directory and global baby name datasets.\n",
    "\n",
    "The project involves several steps: gathering and cleaning salary data, collecting and cleaning department and job title data, making gender predictions for each faculty member, and ultimately visualizing the cleaned data through a Tableau dashboard.\n",
    "\n",
    "This approach incorporates tasks such as scraping, clustering, and data transformation, offering a more in-depth exploration of data manipulation techniques and fostering a comprehensive understanding of the intricacies involved in data wrangling."
   ]
  },
  {
   "cell_type": "markdown",
   "id": "845a3cd0-baf1-4e02-b4a4-41a798e45539",
   "metadata": {},
   "source": [
    "## Contents"
   ]
  },
  {
   "cell_type": "markdown",
   "id": "ed88137d-7874-4851-a601-fbc34eaabb3d",
   "metadata": {},
   "source": [
    "The following list is how the rest of this project will unfold:"
   ]
  },
  {
   "cell_type": "markdown",
   "id": "d08c2c07-8b91-45dc-894a-0cca5667271e",
   "metadata": {},
   "source": [
    "- Data Collection and Cleaning\n",
    "    - Salary Data\n",
    "    - Department and Job Title Data\n",
    "- Gender Prediction\n",
    "- Data Visualization\n",
    "- Conclusion"
   ]
  },
  {
   "cell_type": "markdown",
   "id": "bbea6507-2207-4cf0-8442-7cc9019ebb5e",
   "metadata": {},
   "source": [
    "## Data Collection and Cleaning"
   ]
  },
  {
   "cell_type": "markdown",
   "id": "52f2b235-9221-4f0a-9ffd-6b4260565e1b",
   "metadata": {},
   "source": [
    "### Salary Data"
   ]
  },
  {
   "cell_type": "markdown",
   "id": "52e3b662-0a92-401a-b98c-c77e4cb60aac",
   "metadata": {},
   "source": [
    "We can use the PDF salary information that UBC releases every year. The salary information is retrieved from the following website: [UBC Financial Reports](https://finance.ubc.ca/reporting-planning-analysis/financial-reports). The first step is to go to this website and find the links for years with available salary data."
   ]
  },
  {
   "cell_type": "code",
   "execution_count": 2,
   "id": "afa06f25-5c08-4f4e-9940-05661e28d237",
   "metadata": {},
   "outputs": [
    {
     "data": {
      "text/plain": [
       "{'2023': 'https://finance.ubc.ca/sites/finserv.ubc.ca/files/FY23%20UBC%20Statement%20of%20Financial%20Information.pdf',\n",
       " '2022': 'https://finance.ubc.ca/sites/finserv.ubc.ca/files/FY22%20UBC%20Statement%20of%20Financial%20Information.pdf',\n",
       " '2021': 'https://finance.ubc.ca/sites/finserv.ubc.ca/files/FY21%20UBC%20Statement%20of%20Financial%20Information.pdf',\n",
       " '2020': 'https://finance.ubc.ca/sites/finserv.ubc.ca/files/FY20_Financial_Information_Act_Report.pdf'}"
      ]
     },
     "execution_count": 2,
     "metadata": {},
     "output_type": "execute_result"
    }
   ],
   "source": [
    "links = {} # get all financial report links\n",
    "r = requests.get('https://finance.ubc.ca/reporting-planning-analysis/financial-reports') # go to financial report webpage\n",
    "soup = BeautifulSoup(r.content, 'html.parser')\n",
    "finance_section = soup.find('h3', string = re.compile('Financial Information Act')) # find the \"Financial Information Act\" header\n",
    "salary_link_elements = finance_section.find_next_sibling('ul').findAll('li') # find the section with the links\n",
    "for element in salary_link_elements: # collect all of the links\n",
    "    salary_link = element.find('a').get('href') # get link from element\n",
    "    year = \"20\" + re.search(\"FY([0-9][0-9])\", salary_link).group(1) # use regex to get the year in each link\n",
    "    links[year] = salary_link # add year and link to dictionary \n",
    "links"
   ]
  },
  {
   "cell_type": "markdown",
   "id": "982ae55e-a201-41db-a152-9b38017898b6",
   "metadata": {},
   "source": [
    "Above we can see the years with available salary information."
   ]
  },
  {
   "cell_type": "markdown",
   "id": "3bddf7cf-5e4c-4c13-9207-631543583e20",
   "metadata": {},
   "source": [
    "Next, I will create a function that when given a link, will return the text from the link in string form."
   ]
  },
  {
   "cell_type": "code",
   "execution_count": 3,
   "id": "4defcb9b-71b0-46d5-8d47-43c05788184e",
   "metadata": {},
   "outputs": [],
   "source": [
    "def fetch_salary_data(link):\n",
    "    '''find UBC salary pdf for given year and return it in string form'''\n",
    "    url = link\n",
    "    \n",
    "    r = requests.get(url)\n",
    "    f = io.BytesIO(r.content)\n",
    "    \n",
    "    all_text = \"\" # variable to store all text in pdf\n",
    "    reader = PdfReader(f)\n",
    "    contents = reader.pages # returns a list of pages\n",
    "    for content in contents: # for each page, extract text\n",
    "        all_text += content.extract_text() # add text to all_text\n",
    "        \n",
    "    return all_text"
   ]
  },
  {
   "cell_type": "markdown",
   "id": "02dfc5dd-e6ab-4355-90da-7847ecad6454",
   "metadata": {},
   "source": [
    "Now, I will create a function that can take the salary data in string form, clean it up, and return a dataframe with the columns: `First Name`, `Last Name`, `Remuneration`, `Expenses`, and `Year`."
   ]
  },
  {
   "cell_type": "code",
   "execution_count": 4,
   "id": "d0385e91-86aa-47d5-8b8a-c88f125eb827",
   "metadata": {},
   "outputs": [],
   "source": [
    "def clean_salary_data(raw_data, year):\n",
    "    '''take salary data in string form and turn it into a dataframe, add a column and fill it with the given year'''\n",
    "    # Remove beginning/end text\n",
    "    raw_data_a = raw_data.split('Earnings greater than')[0].split('external cost recoveries.')[1]\n",
    "    raw_data_a\n",
    "    \n",
    "    # Remove unnessessary lines\n",
    "    raw_data_b = re.split('([\\.\\p{L},\\s-]+[\\s\\n]+[0-9,-]+[\\s\\n]+[0-9,-]+)', raw_data_a)\n",
    "    \n",
    "    raw_data_c = [i for i in raw_data_b if (',' in i) and ('SCHEDULE' not in i)]\n",
    "    \n",
    "    # Remove spaces and new lines\n",
    "    raw_data_d = [i.replace('\\n',' ').replace(\"  \",\" \").strip() for i in raw_data_c]\n",
    "    raw_data_d = [i.replace(\"  \",\" \") for i in raw_data_d]\n",
    "    \n",
    "    # # Split data into Names/Remuneration/Expenses\n",
    "    raw_data_e = [i.rsplit(' ',2) for i in raw_data_d]\n",
    "    raw_data_e\n",
    "    \n",
    "    # Create Column names\n",
    "    ubc_salary_data = pd.DataFrame(raw_data_e, columns = ['Name', 'Remuneration', 'Expenses'])\n",
    "    \n",
    "    # Split Name into First/Last Name\n",
    "    ubc_salary_data['First Name'] = ubc_salary_data['Name'].str.split(', ', expand = True)[1]\n",
    "    ubc_salary_data['Last Name'] = ubc_salary_data['Name'].str.split(', ', expand = True)[0]\n",
    "    \n",
    "    \n",
    "    # Select necessary columns\n",
    "    ubc_salary_data = ubc_salary_data[['Last Name','First Name','Remuneration','Expenses']]\n",
    "    \n",
    "    # turn salary column from string to numeric\n",
    "    ubc_salary_data['Remuneration'] = ubc_salary_data['Remuneration'].astype(str).str.replace(',','')\n",
    "    ubc_salary_data['Remuneration'] = pd.to_numeric(ubc_salary_data['Remuneration'], errors='coerce')\n",
    "\n",
    "    ubc_salary_data['Year'] = f\"{year}\"\n",
    "\n",
    "    return ubc_salary_data"
   ]
  },
  {
   "cell_type": "markdown",
   "id": "cfefb7c6-b4f6-4185-8abb-f9f8fc285962",
   "metadata": {},
   "source": [
    "Now I will loop through the salary data links I collected, clean up the data for each year, and combine the data into one dataframe. "
   ]
  },
  {
   "cell_type": "code",
   "execution_count": 28,
   "id": "e065f3a9-3fc1-4be4-b551-9c82e3d47108",
   "metadata": {},
   "outputs": [],
   "source": [
    "salary_data = pd.DataFrame(columns = ['Last Name', 'First Name', 'Remuneration', 'Expenses','Year']) # create empty dataframe for salary data\n",
    "most_recent = True # keeps track of most recent salary data\n",
    "for year, link in links.items(): # for each year that UBC has data for\n",
    "    raw = fetch_salary_data(link) # get raw data in string form\n",
    "    salaries = clean_salary_data(raw, year) # get clean data as a dataframe\n",
    "    if most_recent: # export the most recent salary data so that we can collect the new department/job title info\n",
    "        salaries.to_csv(f\"/Users/jadebouchard/Desktop/UBC Salaries/Salary Data/{year}.csv\")\n",
    "        most_recent = False\n",
    "    if salary_data.empty: # avoid warning that we shouldn't be concatenating empty dataframes\n",
    "        salary_data = salaries\n",
    "    else:\n",
    "        salary_data = pd.concat([salary_data,salaries]) # paste dataframes together"
   ]
  },
  {
   "cell_type": "markdown",
   "id": "2051abb3-5d0c-4ba3-a676-a11886e74f1c",
   "metadata": {},
   "source": [
    "Below you can see a recent and less recent section of the data."
   ]
  },
  {
   "cell_type": "code",
   "execution_count": 6,
   "id": "498b7253-3111-4f00-accd-0e0d34769caf",
   "metadata": {},
   "outputs": [
    {
     "data": {
      "text/html": [
       "<div>\n",
       "<style scoped>\n",
       "    .dataframe tbody tr th:only-of-type {\n",
       "        vertical-align: middle;\n",
       "    }\n",
       "\n",
       "    .dataframe tbody tr th {\n",
       "        vertical-align: top;\n",
       "    }\n",
       "\n",
       "    .dataframe thead th {\n",
       "        text-align: right;\n",
       "    }\n",
       "</style>\n",
       "<table border=\"1\" class=\"dataframe\">\n",
       "  <thead>\n",
       "    <tr style=\"text-align: right;\">\n",
       "      <th></th>\n",
       "      <th>Last Name</th>\n",
       "      <th>First Name</th>\n",
       "      <th>Remuneration</th>\n",
       "      <th>Expenses</th>\n",
       "      <th>Year</th>\n",
       "    </tr>\n",
       "  </thead>\n",
       "  <tbody>\n",
       "    <tr>\n",
       "      <th>0</th>\n",
       "      <td>Aamodt</td>\n",
       "      <td>Tor</td>\n",
       "      <td>193153.0</td>\n",
       "      <td>5,597</td>\n",
       "      <td>2023</td>\n",
       "    </tr>\n",
       "    <tr>\n",
       "      <th>1</th>\n",
       "      <td>Abanto Salguero</td>\n",
       "      <td>Arleni Karina</td>\n",
       "      <td>107723.0</td>\n",
       "      <td>393</td>\n",
       "      <td>2023</td>\n",
       "    </tr>\n",
       "    <tr>\n",
       "      <th>2</th>\n",
       "      <td>Abbassi</td>\n",
       "      <td>Arash</td>\n",
       "      <td>109136.0</td>\n",
       "      <td>82</td>\n",
       "      <td>2023</td>\n",
       "    </tr>\n",
       "    <tr>\n",
       "      <th>3</th>\n",
       "      <td>Abdalkhani</td>\n",
       "      <td>Arman</td>\n",
       "      <td>101829.0</td>\n",
       "      <td>-</td>\n",
       "      <td>2023</td>\n",
       "    </tr>\n",
       "    <tr>\n",
       "      <th>4</th>\n",
       "      <td>Abdi</td>\n",
       "      <td>Ali</td>\n",
       "      <td>238203.0</td>\n",
       "      <td>2,981</td>\n",
       "      <td>2023</td>\n",
       "    </tr>\n",
       "  </tbody>\n",
       "</table>\n",
       "</div>"
      ],
      "text/plain": [
       "         Last Name     First Name  Remuneration Expenses  Year\n",
       "0           Aamodt            Tor      193153.0    5,597  2023\n",
       "1  Abanto Salguero  Arleni Karina      107723.0      393  2023\n",
       "2          Abbassi          Arash      109136.0       82  2023\n",
       "3       Abdalkhani          Arman      101829.0        -  2023\n",
       "4             Abdi            Ali      238203.0    2,981  2023"
      ]
     },
     "execution_count": 6,
     "metadata": {},
     "output_type": "execute_result"
    }
   ],
   "source": [
    "salary_data.head()"
   ]
  },
  {
   "cell_type": "code",
   "execution_count": 7,
   "id": "a4633cf0-9e2d-4f44-8ecd-d4f825ba6b8d",
   "metadata": {},
   "outputs": [
    {
     "data": {
      "text/html": [
       "<div>\n",
       "<style scoped>\n",
       "    .dataframe tbody tr th:only-of-type {\n",
       "        vertical-align: middle;\n",
       "    }\n",
       "\n",
       "    .dataframe tbody tr th {\n",
       "        vertical-align: top;\n",
       "    }\n",
       "\n",
       "    .dataframe thead th {\n",
       "        text-align: right;\n",
       "    }\n",
       "</style>\n",
       "<table border=\"1\" class=\"dataframe\">\n",
       "  <thead>\n",
       "    <tr style=\"text-align: right;\">\n",
       "      <th></th>\n",
       "      <th>Last Name</th>\n",
       "      <th>First Name</th>\n",
       "      <th>Remuneration</th>\n",
       "      <th>Expenses</th>\n",
       "      <th>Year</th>\n",
       "    </tr>\n",
       "  </thead>\n",
       "  <tbody>\n",
       "    <tr>\n",
       "      <th>6219</th>\n",
       "      <td>Zumbo</td>\n",
       "      <td>Bruno</td>\n",
       "      <td>294953.0</td>\n",
       "      <td>10,102</td>\n",
       "      <td>2020</td>\n",
       "    </tr>\n",
       "    <tr>\n",
       "      <th>6220</th>\n",
       "      <td>Zumpano</td>\n",
       "      <td>Franco</td>\n",
       "      <td>94463.0</td>\n",
       "      <td>420</td>\n",
       "      <td>2020</td>\n",
       "    </tr>\n",
       "    <tr>\n",
       "      <th>6221</th>\n",
       "      <td>Zumrawi</td>\n",
       "      <td>Abdel Azim</td>\n",
       "      <td>98145.0</td>\n",
       "      <td>-</td>\n",
       "      <td>2020</td>\n",
       "    </tr>\n",
       "    <tr>\n",
       "      <th>6222</th>\n",
       "      <td>Zwicker</td>\n",
       "      <td>Jill</td>\n",
       "      <td>145343.0</td>\n",
       "      <td>12,523</td>\n",
       "      <td>2020</td>\n",
       "    </tr>\n",
       "    <tr>\n",
       "      <th>6223</th>\n",
       "      <td>Zysk</td>\n",
       "      <td>Eva</td>\n",
       "      <td>93058.0</td>\n",
       "      <td>2,489</td>\n",
       "      <td>2020</td>\n",
       "    </tr>\n",
       "  </tbody>\n",
       "</table>\n",
       "</div>"
      ],
      "text/plain": [
       "     Last Name  First Name  Remuneration Expenses  Year\n",
       "6219     Zumbo       Bruno      294953.0   10,102  2020\n",
       "6220   Zumpano      Franco       94463.0      420  2020\n",
       "6221   Zumrawi  Abdel Azim       98145.0        -  2020\n",
       "6222   Zwicker        Jill      145343.0   12,523  2020\n",
       "6223      Zysk         Eva       93058.0    2,489  2020"
      ]
     },
     "execution_count": 7,
     "metadata": {},
     "output_type": "execute_result"
    }
   ],
   "source": [
    "salary_data.tail()"
   ]
  },
  {
   "cell_type": "markdown",
   "id": "6086edd1-6f81-42f0-ae22-4f5dacc95074",
   "metadata": {},
   "source": [
    "This scraping process missed about 70 entries due to formatting issues. These entries will be removed going forward."
   ]
  },
  {
   "cell_type": "code",
   "execution_count": 8,
   "id": "ddb8e6c0-2542-4283-bd02-1e095dd7d798",
   "metadata": {},
   "outputs": [],
   "source": [
    "salary_data = salary_data[~salary_data.isnull().any(axis = 1)]"
   ]
  },
  {
   "cell_type": "markdown",
   "id": "fa9b4f11-5dca-4337-8ff9-9a401e60fa2d",
   "metadata": {},
   "source": [
    "Also, now that the department and title data has been merged onto the salary data, to try and maintain consistency over the years names will be shortened. For example, \"A Bobby\" will be shortened to \"Bobby\" and \"Anne Michele\" will be shortened to \"Anne\"."
   ]
  },
  {
   "cell_type": "code",
   "execution_count": 9,
   "id": "17a26963-575c-49a8-88d4-cfca211a3110",
   "metadata": {},
   "outputs": [],
   "source": [
    "def shorten_name(name):\n",
    "    '''remove initials from names, and if two names just keep the first one'''\n",
    "    name = name.strip() # remove white space\n",
    "    name = name.replace(\" -\",\"-\").replace(\"- \",\"-\") # make sure names that should be connected are connected\n",
    "    if len(name.split(\" \")) <= 1: # if only one word, return word\n",
    "        return name\n",
    "    else:\n",
    "        words = name.split(\" \")\n",
    "        for word in words: # remove initials if they exist\n",
    "            if len(word) == 1:\n",
    "                words.remove(word)\n",
    "        return words[0] # return first word\n",
    "\n",
    "salary_data.loc[:,\"First Name\"] = salary_data[\"First Name\"].apply(shorten_name)\n",
    "salary_data.loc[:,\"Last Name\"] = salary_data[\"Last Name\"].apply(shorten_name)"
   ]
  },
  {
   "cell_type": "markdown",
   "id": "a2e1a95a-b564-4724-862b-fba3ff0dff4a",
   "metadata": {},
   "source": [
    "Now we have clean salary data for UBC staff members."
   ]
  },
  {
   "cell_type": "code",
   "execution_count": 10,
   "id": "b7f1222d-4e2c-4f97-a1a5-b91e36ee5e27",
   "metadata": {},
   "outputs": [],
   "source": [
    "salary_data.to_excel('data/UBC_Salary_DF_All_Years.xlsx', index = False)\n",
    "salary_data.to_csv('data/UBC_Salary_DF_All_Years.csv', index = False, encoding = \"utf8\")"
   ]
  }
 ],
 "metadata": {
  "kernelspec": {
   "display_name": "Python [conda env:cpsc330]",
   "language": "python",
   "name": "conda-env-cpsc330-py"
  },
  "language_info": {
   "codemirror_mode": {
    "name": "ipython",
    "version": 3
   },
   "file_extension": ".py",
   "mimetype": "text/x-python",
   "name": "python",
   "nbconvert_exporter": "python",
   "pygments_lexer": "ipython3",
   "version": "3.10.0"
  }
 },
 "nbformat": 4,
 "nbformat_minor": 5
}
