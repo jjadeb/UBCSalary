{
 "cells": [
  {
   "cell_type": "code",
   "execution_count": 8,
   "id": "f07e2af3-648d-4d33-aa61-8d9bdc829a36",
   "metadata": {},
   "outputs": [
    {
     "data": {
      "text/plain": [
       "[]"
      ]
     },
     "execution_count": 8,
     "metadata": {},
     "output_type": "execute_result"
    }
   ],
   "source": [
    "from bs4 import BeautifulSoup\n",
    "from bs4 import SoupStrainer\n",
    "import requests\n",
    "from pypdf import PdfReader\n",
    "import pickle\n",
    "import click\n",
    "import regex as re\n",
    "import io\n",
    "\n",
    "'https://finance.ubc.ca/reporting-planning-analysis/financial-reports', 'Financial Information Act'\n",
    "\n",
    "# create an empty dictionary to hold financial report links for each year availible\n",
    "links = {}\n",
    "# go to financial report webpage\n",
    "r = requests.get('https://finance.ubc.ca/reporting-planning-analysis/financial-reports') \n",
    "# use BeautifulSoup to parse through the webpage elements\n",
    "soup = BeautifulSoup(r.content, 'html.parser')\n",
    "# find the \"Financial Information Act\" header\n",
    "finance_section = soup.find('h3', string = re.compile('Financial Information Act'))\n",
    "# find the elements under the header with the financial report links links\n",
    "salary_link_elements = finance_section.find_next_sibling('ul').findAll('li') \n",
    "for element in salary_link_elements: # loop through elements that contain links\n",
    "    salary_link = element.find('a').get('href') # get link from element\n",
    "    year = \"20\" + re.search(\"FY([0-9][0-9])\", salary_link).group(1) # use regex to get the year in each link\n",
    "    links[year] = salary_link # add year and link to dictionary \n",
    "#print(links)\n",
    "\n",
    "# for link in finance_section.find_all('a'):\n",
    "#     print(link)\n",
    "#     if link.has_attr('href'):\n",
    "#         print(link['href'])\n",
    "\n",
    "\n",
    "blocks = {}\n",
    "values = []\n",
    "for sibling in finance_section.find_next_siblings():\n",
    "    for link in sibling.find_all('a'):\n",
    "        if link.has_attr('href'):\n",
    "            print(link['href'])\n",
    "    if sibling.find(string = re.compile(\"Task Force on Climate-Related Disclosures Report\")):  # iterate through siblings until separator is encoutnered\n",
    "        break\n",
    "    values.append(sibling.text)\n",
    "blocks[heading.text] = values\n",
    "\n",
    "finance_section.find_all('a')"
   ]
  },
  {
   "cell_type": "code",
   "execution_count": null,
   "id": "326526cf-3625-45db-84de-ad0adba40b93",
   "metadata": {},
   "outputs": [],
   "source": []
  }
 ],
 "metadata": {
  "kernelspec": {
   "display_name": "Python 3 (ipykernel)",
   "language": "python",
   "name": "python3"
  },
  "language_info": {
   "codemirror_mode": {
    "name": "ipython",
    "version": 3
   },
   "file_extension": ".py",
   "mimetype": "text/x-python",
   "name": "python",
   "nbconvert_exporter": "python",
   "pygments_lexer": "ipython3",
   "version": "3.11.8"
  }
 },
 "nbformat": 4,
 "nbformat_minor": 5
}
