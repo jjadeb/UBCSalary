{
  "cells": [
    {
      "cell_type": "raw",
      "metadata": {},
      "source": [
        "---\n",
        "project:\n",
        "  type: website\n",
        "  output-dir: docs\n",
        "title: \"UBC Salaries: Exploratory Analysis of Gender\"\n",
        "author: \"Jade Bouchard\"\n",
        "format: \n",
        "    html: \n",
        "        toc: true\n",
        "        toc-depth: 2\n",
        "    pdf: \n",
        "        toc: true\n",
        "        toc-depth: 2\n",
        "bibliography: references.bib\n",
        "execute: \n",
        "    echo: false\n",
        "    warning: false\n",
        "editor: source\n",
        "---"
      ],
      "id": "003c619b"
    },
    {
      "cell_type": "code",
      "metadata": {},
      "source": [
        "import pandas as pd\n",
        "import pickle\n",
        "from IPython.display import Markdown, display\n",
        "from tabulate import tabulate"
      ],
      "id": "08793bd7",
      "execution_count": null,
      "outputs": []
    },
    {
      "cell_type": "markdown",
      "metadata": {},
      "source": [
        "## Aim\n",
        "\n",
        "This document explores The University of British Columbia (UBC) faculty salaries based on guessed gender. \n",
        "\n",
        "## Data\n",
        "\n",
        "Salary data was sourced from [@salary_data]. To access individual financial reports, click on the yearly links under the header `Statement of Financial Information (SOFI)`.\n",
        "\n",
        "Gender data was inferred using first names of staff members. In order to guess gender, I used baby name datasets [@canadian_babyname, @american_babyname, @indian_babyname].\n",
        "\n",
        "\n",
        "## Methods\n",
        "\n",
        "The Python programming language [@Python] was used to perform this analysis.\n",
        "\n",
        "## Data collection\n",
        "\n",
        "As mentioned earlier, for UBC salary data, I used the PDF salary information that UBC releases every year [@salary_data]. The following steps were taken to collect the data.\n",
        "\n",
        "- Use the `requests` package to accesses the UBC Financial Reports [webpage](https://finance.ubc.ca/reporting-planning-analysis/reports-and-disclosures).\n",
        "- Extract links to annual salary PDFs by locating the \"Statement of Financial Information (SOFI)\" section on the webpage and parsing the links.\n",
        "- If there are any links (and associated PDFs) for which we have not already collected salary data, extract the text from the PDF using the package `pypdf`.\n",
        "- Open the stored salary data dictionary\n",
        "- Add the new salary text data to the salary data dictionary\n",
        "\n",
        "The code does not necissarily follow the order of steps described above.\n",
        "\n",
        "An exerpt of the raw salary data is below.\n"
      ],
      "id": "27eb20ec"
    },
    {
      "cell_type": "code",
      "metadata": {},
      "source": [
        "  with open(\"../data/salary_data/raw_salary_data.pickle\", \"rb\") as raw_salary_dict:\n",
        "        raw_salary_text_data = pickle.load(raw_salary_dict)\n",
        "\n",
        "print(raw_salary_text_data[\"2020\"][200210:200300])"
      ],
      "id": "73d59e6b",
      "execution_count": null,
      "outputs": []
    },
    {
      "cell_type": "markdown",
      "metadata": {},
      "source": [
        "### Data cleaning\n",
        "\n",
        "In this section, the following steps are taken to clean the salary data:\n",
        "\n",
        "- Remove special charachters from text. For example, ş.\n",
        "- Removes unnecessary text content. For example, the \"[Auditor's] Qualified Opinion\".\n",
        "- Uses regex to process the raw text data into a structured DataFrame with columns: `Name`, `Remuneration`, `Expenses`.\n",
        "- Splits the `Name` column into first and last names. \n",
        "- Converts salary values to a numeric data type.\n",
        "- Shortens first and last name to allow for easier name matching between years. For example, someone's name in 2020 could be \"Bob M Sherbert\" and in 2021 their name could be \"Bob-M Sherbert\". This name would be shortened to Bob Sherbert to avoid mismatching.\n",
        "- Concatenate dataframes from all years together.\n",
        "\n",
        "@tbl-cleandata shows an expert of the cleaned salary data.\n"
      ],
      "id": "89d91f9a"
    },
    {
      "cell_type": "code",
      "metadata": {},
      "source": [
        "#| label: tbl-cleandata\n",
        "#| tbl-cap: Clean UBC Salary Data\n",
        "clean_salary_data = pd.read_csv(\"../data/salary_data/clean_salary_data/all_clean_salary_data.csv\")\n",
        "clean_salary_data.head()"
      ],
      "id": "tbl-cleandata",
      "execution_count": null,
      "outputs": []
    },
    {
      "cell_type": "markdown",
      "metadata": {},
      "source": [
        "## Gender Prediction \n",
        "\n",
        "### Babyname Corpus\n",
        "In order to predict gender, I used datasets with babynames and assigned genders. In order to have a somewhat diverse set of baby names, I used babynames from canadian, american, and indian sources [@canadian_babyname, @american_babyname, @indian_babyname].\n",
        "\n",
        "For each UBC staff name, I found whether that name was more common among girls or boys in the babyname dataset. Then, I guessed the gender that was most common. Any staff names that had less than an 80% gender majority were given a null gender.\n"
      ],
      "id": "4b1f03bb"
    },
    {
      "cell_type": "code",
      "metadata": {},
      "source": [
        "#| label: tbl-babynames\n",
        "#| tbl-cap: Babyname Data\n",
        "clean_babynames = pd.read_csv(\"../data/gender_corpus/clean_name_corpus.csv\")\n",
        "low_accuracy_df = clean_babynames.sort_values(by=\"Accuracy\").head(1)\n",
        "low_accuracy_name = low_accuracy_df.iloc[0][\"First_Name\"]\n",
        "low_accuracy_df"
      ],
      "id": "tbl-babynames",
      "execution_count": null,
      "outputs": []
    },
    {
      "cell_type": "markdown",
      "metadata": {},
      "source": [
        "In @tbl-babynames, the accuracy column shows the percentage of gender majority from the babyname dataset. We can see the name `{python} low_accuracy_name` has about the same number of boy and girl names. So, anyone with that name would have a gender value of `None` assigned.\n",
        "\n",
        "### NLTK\n",
        "\n",
        "\n",
        "### Cleaning\n",
        "\n",
        "\n",
        "## Results\n",
        "\n",
        "\n",
        "\n",
        "## References"
      ],
      "id": "74fe90e9"
    }
  ],
  "metadata": {
    "kernelspec": {
      "name": "ubcsalaryenv",
      "language": "python",
      "display_name": "ubcsalaryenv"
    }
  },
  "nbformat": 4,
  "nbformat_minor": 5
}